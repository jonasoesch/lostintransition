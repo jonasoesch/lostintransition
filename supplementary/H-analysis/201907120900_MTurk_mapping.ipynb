{
 "cells": [
  {
   "cell_type": "code",
   "execution_count": 3,
   "metadata": {},
   "outputs": [],
   "source": [
    "import pandas as pd\n",
    "import glob"
   ]
  },
  {
   "cell_type": "markdown",
   "metadata": {},
   "source": [
    "# MTurk mapping\n",
    "\n",
    "This notebook connects the experiment-specific user-ids with the MTurk IDs and with the answer codes. By this it helps verify which worker has completed the experiment and provided a correct answer code."
   ]
  },
  {
   "cell_type": "markdown",
   "metadata": {},
   "source": [
    "## Load data"
   ]
  },
  {
   "cell_type": "code",
   "execution_count": 4,
   "metadata": {},
   "outputs": [],
   "source": [
    "all = pd.read_pickle(\"outputs/201907111000_duration.pkl\", compression=\"gzip\")"
   ]
  },
  {
   "cell_type": "markdown",
   "metadata": {},
   "source": [
    "### Users who have seen the final screen"
   ]
  },
  {
   "cell_type": "code",
   "execution_count": 5,
   "metadata": {},
   "outputs": [
    {
     "name": "stdout",
     "output_type": "stream",
     "text": [
      "173\n",
      "53\n"
     ]
    }
   ],
   "source": [
    "users_who_have_finished = all[all.chart.str.contains(\"@message: final:\")].user.unique()\n",
    "print(all.user.unique().shape[0])\n",
    "print(users_who_have_finished.shape[0])"
   ]
  },
  {
   "cell_type": "markdown",
   "metadata": {},
   "source": [
    "### Are their codes valid?"
   ]
  },
  {
   "cell_type": "code",
   "execution_count": 6,
   "metadata": {},
   "outputs": [
    {
     "data": {
      "text/plain": [
       "1.0"
      ]
     },
     "execution_count": 6,
     "metadata": {},
     "output_type": "execute_result"
    }
   ],
   "source": [
    "valid_codes = pd.read_csv(\"../numbers.txt\", names=[\"number\"])\n",
    "users_codes = (all\n",
    "    .query(\"chart.str.contains('@message: final:')\")\n",
    "    .assign(code=lambda x: pd.to_numeric(x.chart.str.split(\": \").str[-1]))\n",
    "    .filter([\"user\", \"code\"])\n",
    ")\n",
    "\n",
    "(users_codes\n",
    "    .query(\"code.isin(@valid_codes.number)\")\n",
    "    .user.unique()\n",
    "    .shape[0]\n",
    ") / users_who_have_finished.shape[0]"
   ]
  },
  {
   "cell_type": "markdown",
   "metadata": {},
   "source": [
    "### Connect to MTurk ID"
   ]
  },
  {
   "cell_type": "code",
   "execution_count": 7,
   "metadata": {},
   "outputs": [
    {
     "data": {
      "text/plain": [
       "47"
      ]
     },
     "execution_count": 7,
     "metadata": {},
     "output_type": "execute_result"
    }
   ],
   "source": [
    "users_workers = (pd.concat([pd.read_csv(f) for f in glob.glob('inputs/MTurk/*.csv')], ignore_index = True)\n",
    "    .filter([\"WorkerId\", \"Answer.surveycode\"])\n",
    "    .rename({\"Answer.surveycode\": \"code\"}, axis=1)\n",
    "    .merge(users_codes, on=\"code\", how=\"left\")\n",
    ")    \n",
    "users_workers.query(\"user.isna() == False\").shape[0]"
   ]
  },
  {
   "cell_type": "markdown",
   "metadata": {},
   "source": [
    "### Complete the user-MTurk mapping with the provided IDs"
   ]
  },
  {
   "cell_type": "code",
   "execution_count": 8,
   "metadata": {},
   "outputs": [],
   "source": [
    "users_workers_complete = (all\n",
    "    .query(\"chart.str.contains('workerId')\")\n",
    "    .filter([\"user\", \"message\"])\n",
    "    .rename({\"message\": \"WorkerId\"}, axis=1)\n",
    "    .merge(users_workers, how=\"outer\")\n",
    "    .query(\"(user.isna() == False)\")\n",
    "    .query(\"WorkerId != 'Jonas'\")\n",
    "    .drop_duplicates()\n",
    ")"
   ]
  },
  {
   "cell_type": "code",
   "execution_count": 9,
   "metadata": {},
   "outputs": [
    {
     "data": {
      "text/plain": [
       "(53, 3)"
      ]
     },
     "execution_count": 9,
     "metadata": {},
     "output_type": "execute_result"
    }
   ],
   "source": [
    "users_workers_complete.query(\"user.isin(@users_who_have_finished)\").shape"
   ]
  },
  {
   "cell_type": "code",
   "execution_count": 10,
   "metadata": {},
   "outputs": [
    {
     "data": {
      "text/plain": [
       "condition\n",
       "pilot3c1    13\n",
       "pilot3c2    14\n",
       "pilot3c3    14\n",
       "pilot3c4    12\n",
       "Name: user, dtype: int64"
      ]
     },
     "execution_count": 10,
     "metadata": {},
     "output_type": "execute_result"
    }
   ],
   "source": [
    "all[all.user.isin(users_who_have_finished)].groupby([\"user\"]).condition.first().reset_index().groupby(\"condition\").user.count()"
   ]
  },
  {
   "cell_type": "markdown",
   "metadata": {},
   "source": [
    "### Export"
   ]
  },
  {
   "cell_type": "code",
   "execution_count": 128,
   "metadata": {},
   "outputs": [],
   "source": [
    "users_workers_complete.to_pickle(\"outputs/201907120900_users_workers_codes.pkl\", compression=\"gzip\")\n",
    "pd.Series(users_who_have_finished).to_pickle(\"outputs/201907120900_users_who_have_finished.pkl\", compression=\"gzip\")"
   ]
  },
  {
   "cell_type": "code",
   "execution_count": null,
   "metadata": {},
   "outputs": [],
   "source": []
  }
 ],
 "metadata": {
  "kernelspec": {
   "display_name": "Python 3",
   "language": "python",
   "name": "python3"
  },
  "language_info": {
   "codemirror_mode": {
    "name": "ipython",
    "version": 3
   },
   "file_extension": ".py",
   "mimetype": "text/x-python",
   "name": "python",
   "nbconvert_exporter": "python",
   "pygments_lexer": "ipython3",
   "version": "3.7.3"
  }
 },
 "nbformat": 4,
 "nbformat_minor": 2
}
