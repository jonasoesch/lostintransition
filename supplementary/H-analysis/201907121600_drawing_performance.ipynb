{
 "cells": [
  {
   "cell_type": "code",
   "execution_count": 2,
   "metadata": {},
   "outputs": [],
   "source": [
    "import pandas as pd\n",
    "from pdvega import Axes as Vega\n",
    "from vega import VegaLite\n",
    "from ua_parser import user_agent_parser"
   ]
  },
  {
   "cell_type": "markdown",
   "metadata": {},
   "source": [
    "# Drawing performance\n",
    "\n",
    "This notebook analyzes the framerate of the animation for different participants and sessions. Based on this it identifies slow users and sessions."
   ]
  },
  {
   "cell_type": "markdown",
   "metadata": {},
   "source": [
    "## Load data"
   ]
  },
  {
   "cell_type": "code",
   "execution_count": 3,
   "metadata": {},
   "outputs": [],
   "source": [
    "all = pd.read_pickle(\"outputs/201907111000_duration.pkl\", compression=\"gzip\")\n",
    "users_workers = pd.read_pickle(\"outputs/201907120900_users_workers_codes.pkl\", compression=\"gzip\")\n",
    "users_who_have_finished = pd.read_pickle(\"outputs/201907120900_users_who_have_finished.pkl\", compression=\"gzip\")"
   ]
  },
  {
   "cell_type": "code",
   "execution_count": 4,
   "metadata": {},
   "outputs": [
    {
     "data": {
      "text/plain": [
       "Index(['time', 'source', 'user', 'session', 'userAgent', 'screenWidth',\n",
       "       'screenHeight', 'windowWidth', 'windowHeight', 'resolution', 'chart',\n",
       "       'relativePosition', 'absolutePosition', 'message', 'story', 'substory',\n",
       "       'layout', 'transition', 'condition', 'duration', 'viewing', 'typing',\n",
       "       'inactive', 'WorkerId', 'code', 'has_finished'],\n",
       "      dtype='object')"
      ]
     },
     "execution_count": 4,
     "metadata": {},
     "output_type": "execute_result"
    }
   ],
   "source": [
    "study = all.merge(users_workers, on=\"user\", how=\"left\")\n",
    "study.loc[study.user.isin(users_who_have_finished), \"has_finished\"] = True\n",
    "study.loc[study.has_finished != True, \"has_finished\"] = False\n",
    "study.columns"
   ]
  },
  {
   "cell_type": "code",
   "execution_count": 5,
   "metadata": {},
   "outputs": [],
   "source": [
    "study_time = (study\n",
    "              .query(\"chart.str.contains('@') == False\")\n",
    "              .query(\"transition == 'animated'\")\n",
    "              .copy())\n",
    "time_diffs = study_time.groupby(\"session\").time.diff()\n",
    "study_time[\"time_diff\"] = time_diffs\n",
    "study_time.time_diff = study_time.time_diff.dt.total_seconds()"
   ]
  },
  {
   "cell_type": "code",
   "execution_count": 6,
   "metadata": {},
   "outputs": [
    {
     "data": {
      "text/plain": [
       "230"
      ]
     },
     "execution_count": 6,
     "metadata": {},
     "output_type": "execute_result"
    }
   ],
   "source": [
    "study_time.session.nunique()"
   ]
  },
  {
   "cell_type": "markdown",
   "metadata": {},
   "source": [
    "## Parameters\n",
    "\n",
    "\n",
    "We consider differences longer than 0.1 seconds not be caused by slow rendering but rather by the user stopping to interact. Also we consider an acceptable framerate to be 20 fps"
   ]
  },
  {
   "cell_type": "code",
   "execution_count": 7,
   "metadata": {},
   "outputs": [],
   "source": [
    "interaction_threshold = 0.1 # seconds\n",
    "acceptable_drawing_time = 0.0333 # seconds"
   ]
  },
  {
   "cell_type": "markdown",
   "metadata": {},
   "source": [
    "## Framerate"
   ]
  },
  {
   "cell_type": "code",
   "execution_count": 8,
   "metadata": {},
   "outputs": [
    {
     "data": {
      "text/plain": [
       "5049          NaN\n",
       "5050    37.037037\n",
       "5051    38.461538\n",
       "5052    55.555556\n",
       "5053    62.500000\n",
       "Name: framerate, dtype: float64"
      ]
     },
     "execution_count": 8,
     "metadata": {},
     "output_type": "execute_result"
    }
   ],
   "source": [
    "study_time[\"framerate\"] = 1/study_time.time_diff\n",
    "study_time.framerate.head()"
   ]
  },
  {
   "cell_type": "markdown",
   "metadata": {},
   "source": [
    "## Mean framerate\n",
    "\n",
    "The mean framerate is 41 fps"
   ]
  },
  {
   "cell_type": "code",
   "execution_count": 9,
   "metadata": {},
   "outputs": [
    {
     "data": {
      "text/plain": [
       "0.023974889846308554"
      ]
     },
     "execution_count": 9,
     "metadata": {},
     "output_type": "execute_result"
    }
   ],
   "source": [
    "(study_time\n",
    " .query(\"time_diff < @interaction_threshold\")\n",
    " .query('time_diff > 0')\n",
    " .time_diff.mean()\n",
    ")"
   ]
  },
  {
   "cell_type": "markdown",
   "metadata": {},
   "source": [
    "## Mean framerate per session\n",
    "\n",
    "In a typical session, the mean framerate is beteen 50 and 25 fps"
   ]
  },
  {
   "cell_type": "code",
   "execution_count": 10,
   "metadata": {},
   "outputs": [
    {
     "data": {
      "application/javascript": [
       "var spec = {\"mark\": \"bar\", \"encoding\": {\"x\": {\"field\": \"framerate\", \"type\": \"quantitative\", \"bin\": {\"step\": 3}, \"axis\": {\"title\": \"Mean Fps per session\"}}, \"y\": {\"aggregate\": \"count\", \"axis\": {\"title\": \"Number of sessions\"}}}, \"width\": 800, \"height\": 200, \"data\": {\"values\": [{\"session\": \"1562866829595-0.wmvfp1tqbhm\", \"framerate\": 56.75172677429059}, {\"session\": \"1562866962295-0.mafbz2n220e\", \"framerate\": 58.04822052753167}, {\"session\": \"1562867023988-0.dvs8f2wb73r\", \"framerate\": 56.84907923172527}, {\"session\": \"1562867093301-0.fzjjtgfevym\", \"framerate\": 57.09704313914224}, {\"session\": \"1562867759746-0.r5ntzznep5c\", \"framerate\": 18.930305110434464}, {\"session\": \"1562869752413-0.g7psng585qh\", \"framerate\": 23.476857518202195}, {\"session\": \"1562870005182-0.q1gi67qe6rj\", \"framerate\": 20.77001323939495}, {\"session\": \"1562870282057-0.8c5gre6v7kk\", \"framerate\": 21.320177242449898}, {\"session\": \"1562871905200-0.wahbqq8v2oa\", \"framerate\": 39.69353386962942}, {\"session\": \"1562872124106-0.wrbg2f0jwkf\", \"framerate\": 37.26735030800618}, {\"session\": \"1562872303037-0.kyj2c81pkd8\", \"framerate\": 41.66465235623164}, {\"session\": \"1562872452649-0.x1jmj31nrh\", \"framerate\": 27.84826528567757}, {\"session\": \"1562873079603-0.wglqvsp2uj\", \"framerate\": 54.712230269529506}, {\"session\": \"1562873236531-0.up3lqurc5rc\", \"framerate\": 54.46729108397524}, {\"session\": \"1562873396799-0.wz27o6a4mum\", \"framerate\": 54.393088058226}, {\"session\": \"1562873639714-0.74aqy1ipvwe\", \"framerate\": 53.63840195262647}, {\"session\": \"1562874210221-0.d5m49f3pzsk\", \"framerate\": 57.72831025115212}, {\"session\": \"1562874608272-0.a1ya3socrwe\", \"framerate\": 57.78774555339785}, {\"session\": \"1562874890031-0.usf3p2e0gab\", \"framerate\": 56.93575974587702}, {\"session\": \"1562875149263-0.m6r2zmxrd1h\", \"framerate\": 57.888541964832015}, {\"session\": \"1562878277115-0.rsdfgmrwawr\", \"framerate\": 58.94386645640832}, {\"session\": \"1562878489971-0.zzp9u6l7obh\", \"framerate\": 59.11974455907698}, {\"session\": \"1562878682147-0.vwept5rutgo\", \"framerate\": 59.06659488609454}, {\"session\": \"1562878876892-0.6mu24rdldc6\", \"framerate\": 58.8997402693103}, {\"session\": \"1562879260736-0.ldz2wkou8q\", \"framerate\": 54.63174810255659}, {\"session\": \"1562879285003-0.hk6orfvof3r\", \"framerate\": 58.6253616484185}, {\"session\": \"1562879525723-0.u2spm8lciaa\", \"framerate\": 55.812643045236904}, {\"session\": \"1562879550367-0.nro1c89doki\", \"framerate\": 53.474717991107234}, {\"session\": \"1562879570016-0.hcfd49esnr\", \"framerate\": 58.45880734062101}, {\"session\": \"1562879583258-0.5ttdsctvtn\", \"framerate\": 59.86525480781685}, {\"session\": \"1562879767676-0.dijaopqds7n\", \"framerate\": 54.56347059967702}, {\"session\": \"1562880032414-0.z5mhssaribr\", \"framerate\": 56.06901274314132}, {\"session\": \"1562881912909-0.f3b1tppzcnf\", \"framerate\": 59.71872650775883}, {\"session\": \"1562882006729-0.gcmjix7nmg\", \"framerate\": 59.56495811853557}, {\"session\": \"1562882070767-0.mm8lzyi8jlo\", \"framerate\": 59.307930866931805}, {\"session\": \"1562882145391-0.g4mfgprj7bo\", \"framerate\": 59.814236296501505}, {\"session\": \"1562882795791-0.4t4lazqkll\", \"framerate\": 58.14418041348445}, {\"session\": \"1562883508904-0.owouutr1u0l\", \"framerate\": 58.60150331434221}, {\"session\": \"1562884078081-0.vqwzoidtag\", \"framerate\": 58.67020785330567}, {\"session\": \"1562884316494-0.aqxozu1romm\", \"framerate\": 58.34344958819345}, {\"session\": \"1562894089240-0.thqn1gpg95m\", \"framerate\": 24.18155234522319}, {\"session\": \"1562894511521-0.5dt256kupyd\", \"framerate\": 25.12322376640619}, {\"session\": \"1562894759763-0.9o72hw9w08b\", \"framerate\": 25.195933859887187}, {\"session\": \"1562894958047-0.5gi7tr5ewvs\", \"framerate\": 24.675731402506695}, {\"session\": \"1562899792240-0.sjhm99z9o1r\", \"framerate\": 69.47250278223375}, {\"session\": \"1562899917791-0.oa823c9nika\", \"framerate\": 67.62777264400985}, {\"session\": \"1562904269565-0.igxup4nsief\", \"framerate\": 57.00403378272447}, {\"session\": \"1562904669372-0.n5nm00l48pf\", \"framerate\": 56.6280542284589}, {\"session\": \"1562905111301-0.01dk6ts3yi8e\", \"framerate\": 57.27651074701569}, {\"session\": \"1562905441667-0.poubo7qnpc\", \"framerate\": 56.665916172683275}, {\"session\": \"1562921098563-0.z0l0gqi0o6\", \"framerate\": 20.121294797644843}, {\"session\": \"1562921133237-0.r88r4g7p0zj\", \"framerate\": 22.29513409193435}, {\"session\": \"1562921462928-0.l3frc8kon3\", \"framerate\": 25.419888979284288}, {\"session\": \"1562921813858-0.1gcdus9a8jyj\", \"framerate\": 24.74779351281676}, {\"session\": \"1562922030348-0.92xh1lk7jdc\", \"framerate\": 23.6881320816143}, {\"session\": \"1562960900640-0.c892bd9e53b\", \"framerate\": 53.722145199778396}, {\"session\": \"1562961118660-0.wmdqnn7loe\", \"framerate\": 52.75526524114877}, {\"session\": \"1562961417358-0.4fri1mnfuui\", \"framerate\": 52.997542315826216}, {\"session\": \"1562961811469-0.py0qsh388q\", \"framerate\": 52.45984707999616}, {\"session\": \"1563039895475-0.rmakdqqij2\", \"framerate\": 56.0828124744795}, {\"session\": \"1563040641017-0.qmnxa256pl\", \"framerate\": 55.96244106814065}, {\"session\": \"1563040743307-0.8uunfth3ulq\", \"framerate\": 57.12872307702985}, {\"session\": \"1563040966500-0.b9wv3qhcp88\", \"framerate\": 57.82801107174439}, {\"session\": \"1563041196733-0.y3mb33iyqhl\", \"framerate\": 57.81312821447232}, {\"session\": \"1563041542743-0.wnvhyhlvjfl\", \"framerate\": 60.86784691268255}, {\"session\": \"1563042227527-0.w1taap1vcl\", \"framerate\": 53.921959254022205}, {\"session\": \"1563042695650-0.0m44r3xs5tl\", \"framerate\": 50.09791060090044}, {\"session\": \"1563043243846-0.qyat4wc7s9d\", \"framerate\": 54.317978006194636}, {\"session\": \"1563043862065-0.hai2e1mf2xi\", \"framerate\": 35.58404953434729}, {\"session\": \"1563045038757-0.6pbx0xliiiu\", \"framerate\": 40.01810828497654}, {\"session\": \"1563046299112-0.en3ezkhstwk\", \"framerate\": 25.945306602467873}, {\"session\": \"1563046638264-0.lr9gh6zef9\", \"framerate\": 20.450609548998177}, {\"session\": \"1563046847406-0.0jws3vyhs3o4\", \"framerate\": 27.337827605604996}, {\"session\": \"1563047232738-0.dm7d22b1g88\", \"framerate\": 27.119735764332653}, {\"session\": \"1563047310513-0.zh4dbg7qj2\", \"framerate\": 18.192138282632442}, {\"session\": \"1563047475577-0.95y1qjamkwf\", \"framerate\": 24.014837367234662}, {\"session\": \"1563047661202-0.m0g4343ps88\", \"framerate\": 19.419907133327975}, {\"session\": \"1563047722408-0.2iser89wehf\", \"framerate\": 52.432199009881785}, {\"session\": \"1563047812309-0.xd11f319e0r\", \"framerate\": 21.557014653613916}, {\"session\": \"1563047946805-0.lhoptkh9k3l\", \"framerate\": 53.04806649553761}, {\"session\": \"1563048288415-0.dze1w3o61n\", \"framerate\": 54.05462294845243}, {\"session\": \"1563048613812-0.g1v85a4xpvr\", \"framerate\": 59.43267393585147}, {\"session\": \"1563049369646-0.1or2c2zv0oh\", \"framerate\": 25.873344941449577}, {\"session\": \"1563050155711-0.dfk4kgmnjeq\", \"framerate\": 32.68447902583378}, {\"session\": \"1563050854675-0.ic3qm7g8yei\", \"framerate\": 26.476873667649617}, {\"session\": \"1563051132922-0.kynoev51c4e\", \"framerate\": 23.963799068635645}, {\"session\": \"1563053465728-0.ujd1g15u08g\", \"framerate\": 43.309333007696225}, {\"session\": \"1563053705040-0.5cbzss19njb\", \"framerate\": 40.97869151503109}, {\"session\": \"1563053861905-0.oe5aqh2ze8\", \"framerate\": 40.477652399906376}, {\"session\": \"1563054016611-0.731024hrazd\", \"framerate\": 41.90320558048007}, {\"session\": \"1563057425760-0.zyydhr3pk5\", \"framerate\": 58.92811989310973}, {\"session\": \"1563073308856-0.14opowylw8\", \"framerate\": 55.65018091577341}, {\"session\": \"1563073614802-0.s99h43pvp2\", \"framerate\": 54.764337572926976}, {\"session\": \"1563073823226-0.c3tc8ra2fd\", \"framerate\": 56.18318089030329}, {\"session\": \"1563074018764-0.2vgti8ey3kg\", \"framerate\": 56.14282723588141}, {\"session\": \"1563080528690-0.qcokbd57ewk\", \"framerate\": 55.99227683347914}, {\"session\": \"1563081573853-0.1stjhwdscc5i\", \"framerate\": 57.135720316688804}, {\"session\": \"1563082884204-0.r7w4ackxzd\", \"framerate\": 31.564726200597043}, {\"session\": \"1563083252333-0.k6nf0twinf\", \"framerate\": 28.169992829850816}, {\"session\": \"1563084171264-0.5zwrtwwn6ue\", \"framerate\": 29.088814502934802}, {\"session\": \"1563084655451-0.h3hscfn70f5\", \"framerate\": 25.091031853871275}, {\"session\": \"1563175845090-0.i9borx3yp1\", \"framerate\": 57.160383379088735}, {\"session\": \"1563177735155-0.n3s48hcgu8\", \"framerate\": 55.35931248614724}, {\"session\": \"1563178380463-0.w2amggrcng\", \"framerate\": 54.894995411021235}, {\"session\": \"1563179788948-0.rsxa7bvokv\", \"framerate\": 50.61310020719068}, {\"session\": \"1563180555514-0.9y6ram6d6k4\", \"framerate\": 45.64605382531738}, {\"session\": \"1563180567171-0.loklvhs392\", \"framerate\": 58.77155784018533}, {\"session\": \"1563181206897-0.1rfeynvfp6v\", \"framerate\": 40.773958704036424}, {\"session\": \"1563181608627-0.wnaqpcih20c\", \"framerate\": 56.28875683614349}, {\"session\": \"1563181696640-0.wzs7oer5c8\", \"framerate\": 40.154969335919375}, {\"session\": \"1563182219315-0.abibu78upz\", \"framerate\": 57.46387440984439}, {\"session\": \"1563182316297-0.zpq3af3zmp\", \"framerate\": 42.39511350321698}, {\"session\": \"1563182754012-0.7j1r8d33ihk\", \"framerate\": 49.67428370208019}, {\"session\": \"1563183812512-0.qrsjhmgxsk\", \"framerate\": 56.636564483648975}, {\"session\": \"1563184110854-0.102syf3q4y4\", \"framerate\": 56.07654402839273}, {\"session\": \"1563184455544-0.z30wt42z6jj\", \"framerate\": 55.47053076153676}, {\"session\": \"1563184858816-0.d8ynpto11jg\", \"framerate\": 56.28328898073025}, {\"session\": \"1563186652172-0.y69zuxtip4\", \"framerate\": 39.73238375476327}, {\"session\": \"1563198650735-0.wvv2ffmvpq\", \"framerate\": 13.861785667941675}, {\"session\": \"1563199349468-0.5gl8ynceobn\", \"framerate\": 11.962708218997745}, {\"session\": \"1563199921817-0.6auo4iupimq\", \"framerate\": 10.869565217391303}, {\"session\": \"1563212349522-0.msqm800f2bm\", \"framerate\": 43.73452827385394}, {\"session\": \"1563212952287-0.w93if8qexil\", \"framerate\": 57.37263430577198}, {\"session\": \"1563213451314-0.wuhddkg1w2e\", \"framerate\": 48.764759514358495}, {\"session\": \"1563213745552-0.9wqnyces1jo\", \"framerate\": 34.86284857780356}, {\"session\": \"1563213961254-0.b50kifbcap6\", \"framerate\": 56.125300845169384}, {\"session\": \"1563214398908-0.3cjzz8vcm3n\", \"framerate\": 33.69885971738123}, {\"session\": \"1563214966694-0.y56uek43tq\", \"framerate\": 26.267419473120135}, {\"session\": \"1563215462593-0.hlkoqh7152\", \"framerate\": 25.670917040035153}, {\"session\": \"1563219384920-0.64x0caj26e6\", \"framerate\": 54.88241663400615}, {\"session\": \"1563219637761-0.40wsnl3rza\", \"framerate\": 50.649758568405424}, {\"session\": \"1563219891330-0.fh6a2t9b2pp\", \"framerate\": 45.187661881099785}, {\"session\": \"1563220218672-0.zo1le5s0sqh\", \"framerate\": 55.40479072444875}, {\"session\": \"1563223260413-0.004xv07ppp4d\", \"framerate\": 56.97244760135283}, {\"session\": \"1563224063305-0.98eufqd9oit\", \"framerate\": 56.21479634689079}, {\"session\": \"1563224854652-0.hwp4fpiobn\", \"framerate\": 55.19549108916316}, {\"session\": \"1563224993662-0.572t1132up6\", \"framerate\": 37.099946634942846}, {\"session\": \"1563225238375-0.h5xb0rhzaci\", \"framerate\": 36.59720972475373}, {\"session\": \"1563225456074-0.dgcyle503jn\", \"framerate\": 37.074516473886455}, {\"session\": \"1563225643978-0.v8f0nh7xyz\", \"framerate\": 37.965995237531416}, {\"session\": \"1563225975568-0.63ddra06nva\", \"framerate\": 57.0573653801286}, {\"session\": \"1563228771793-0.spkenx18pcb\", \"framerate\": 25.667506761416256}, {\"session\": \"1563228868362-0.cb8ccmsqg6b\", \"framerate\": 21.31078767924819}, {\"session\": \"1563228970044-0.yrb9n3lfs5\", \"framerate\": 21.5623333241862}, {\"session\": \"1563229055224-0.925knj17o69\", \"framerate\": 26.910518868183008}, {\"session\": \"1563238355617-0.ua8wxcaows\", \"framerate\": 57.8954557138813}, {\"session\": \"1563238720371-0.kr19ri30x3l\", \"framerate\": 56.73896579659702}, {\"session\": \"1563239077124-0.3rdcf783zz6\", \"framerate\": 55.12808355932206}, {\"session\": \"1563239650797-0.bos4vwfbto\", \"framerate\": 59.89577554165715}, {\"session\": \"1563239679004-0.pqg0ixzpf7\", \"framerate\": 48.71857942574298}, {\"session\": \"1563239756503-0.w68w7ll9kz\", \"framerate\": 59.59661535701434}, {\"session\": \"1563239844447-0.17fzvj7uelx\", \"framerate\": 54.46945201550722}, {\"session\": \"1563239940383-0.jrjw48oslz\", \"framerate\": 66.94337109722593}, {\"session\": \"1563263405686-0.7l4dkwryky3\", \"framerate\": 57.2889455094575}, {\"session\": \"1563263695141-0.khykwbvayxs\", \"framerate\": 59.13775239845874}, {\"session\": \"1563263902119-0.g9b80blo7z\", \"framerate\": 58.93586541275099}, {\"session\": \"1563264095632-0.3tehtcaj3ov\", \"framerate\": 64.44392453644656}, {\"session\": \"1563268501923-0.7oultabxzpk\", \"framerate\": 30.24000751380198}, {\"session\": \"1563268757610-0.isuw78nufhm\", \"framerate\": 27.47051171098741}, {\"session\": \"1563268983512-0.coynxenb2kg\", \"framerate\": 24.752526875452606}, {\"session\": \"1563269158266-0.8ptaaaud6rr\", \"framerate\": 25.43245354094485}, {\"session\": \"1563271680191-0.y26bdooj3bj\", \"framerate\": 35.63131431444469}, {\"session\": \"1563271909603-0.oqwzepjbuyr\", \"framerate\": 50.48618363018457}, {\"session\": \"1563272236247-0.cscl53mg4y\", \"framerate\": 41.536695287893764}, {\"session\": \"1563272471138-0.9q45xir4aqk\", \"framerate\": 30.820804971602595}, {\"session\": \"1563276725480-0.80wiey95g64\", \"framerate\": 20.293519831158573}, {\"session\": \"1563277119223-0.mkmumklvxel\", \"framerate\": 18.401623651317212}, {\"session\": \"1563277908857-0.3k2wzl3fx8p\", \"framerate\": 20.180677635038688}, {\"session\": \"1563278726700-0.e7ra67h5xz6\", \"framerate\": 41.669715762375354}, {\"session\": \"1563280309474-0.lq7upvb5ti\", \"framerate\": 43.88194348922757}, {\"session\": \"1563280345350-0.ks3ijdh055s\", \"framerate\": 43.733308084469165}, {\"session\": \"1563280392282-0.n8l79pv3w8\", \"framerate\": 44.627460330922254}, {\"session\": \"1563280450221-0.f306l62aup\", \"framerate\": 37.15020954418604}, {\"session\": \"1563284660125-0.xuaostau71r\", \"framerate\": 55.40581147423771}, {\"session\": \"1563284703316-0.nxrqgbesk3\", \"framerate\": 54.748234862246}, {\"session\": \"1563284811987-0.icyjje4hfii\", \"framerate\": 59.00480076365079}, {\"session\": \"1563285190740-0.vcncnzn566\", \"framerate\": 58.659498496357635}, {\"session\": \"1563285337801-0.kphs9xhuqq\", \"framerate\": 56.28189291103201}, {\"session\": \"1563285351306-0.sk1k97gqgy\", \"framerate\": 56.75462208376252}, {\"session\": \"1563285608824-0.sfr3b7idk2\", \"framerate\": 58.940213454107436}, {\"session\": \"1563285790830-0.cbbbdaculaf\", \"framerate\": 55.82999873443139}, {\"session\": \"1563286001372-0.6uqpdjufn1u\", \"framerate\": 56.094722224133356}, {\"session\": \"1563286086900-0.cm3mm9zskqm\", \"framerate\": 59.01837588903489}, {\"session\": \"1563286150046-0.0an7w69d7crb\", \"framerate\": 56.645125157270975}, {\"session\": \"1563286559912-0.v875196ju4f\", \"framerate\": 56.57859333237736}, {\"session\": \"1563291027205-0.gmn6h2ei93h\", \"framerate\": 50.737717773937696}, {\"session\": \"1563291274294-0.c7nfwqom0ll\", \"framerate\": 55.76094946975783}, {\"session\": \"1563291455765-0.bepszr61ax\", \"framerate\": 51.60402978487711}, {\"session\": \"1563291840447-0.wg2jxsci4q\", \"framerate\": 55.43200340523381}, {\"session\": \"1563291873682-0.v8yywakhdo\", \"framerate\": 52.32031561433459}, {\"session\": \"1563292243763-0.llv0t5wbx9\", \"framerate\": 52.660498549483755}, {\"session\": \"1563292313890-0.rs22fdbbbis\", \"framerate\": 55.70303930479802}, {\"session\": \"1563292573787-0.usfbwtz04qs\", \"framerate\": 27.085107243500808}, {\"session\": \"1563293258834-0.cznpv6gni95\", \"framerate\": 28.554786067372163}, {\"session\": \"1563294584831-0.fm0qw9prjgv\", \"framerate\": 56.69514163162423}, {\"session\": \"1563302128613-0.j2wgxk2zl5i\", \"framerate\": 14.27063423058509}, {\"session\": \"1563302755591-0.z6br6ddyol\", \"framerate\": 15.614161170553086}, {\"session\": \"1563303335971-0.w1msgqujtlq\", \"framerate\": 14.299487361880484}, {\"session\": \"1563305894013-0.2cf1sgusfrr\", \"framerate\": 13.91385001239436}, {\"session\": \"1563316563554-0.pig1x5lbjv\", \"framerate\": 55.54142132703794}, {\"session\": \"1563316850132-0.otdvo07v57g\", \"framerate\": 52.6308398527358}, {\"session\": \"1563317109252-0.1fyc9kknx5\", \"framerate\": 55.33968709648806}, {\"session\": \"1563317362857-0.n06vkfktd5\", \"framerate\": 54.680661369985536}, {\"session\": \"1563317968685-0.d4ebpnog8me\", \"framerate\": 59.19500433778355}, {\"session\": \"1563317970776-0.1vwh2mzoqc4\", \"framerate\": 57.16003652604464}, {\"session\": \"1563317998852-0.xn8yzv4x11\", \"framerate\": 56.35041033734849}, {\"session\": \"1563318235893-0.2c2fe5gnp2o\", \"framerate\": 57.09368380646783}, {\"session\": \"1563318503975-0.a9iyjjxvrtw\", \"framerate\": 55.8553505642551}, {\"session\": \"1563318718956-0.2ywxj5uoj4v\", \"framerate\": 57.97599993991125}, {\"session\": \"1563320778164-0.7mw7ytpw7ea\", \"framerate\": 46.43674910775479}, {\"session\": \"1563321050718-0.9x5lyp34nwl\", \"framerate\": 48.07987885508845}, {\"session\": \"1563321202214-0.t2dheyrf26s\", \"framerate\": 52.84240196814269}, {\"session\": \"1563321554219-0.s8uzlv14ap\", \"framerate\": 47.10600016273}, {\"session\": \"1563321731545-0.fugp7vzly7\", \"framerate\": 49.366445761937456}, {\"session\": \"1563322499786-0.2el10s44qr4\", \"framerate\": 50.66509412867651}, {\"session\": \"1563322510023-0.nhtg3n3d9q\", \"framerate\": 51.84492558814025}, {\"session\": \"1563323033333-0.qfdp3gzd0lb\", \"framerate\": 47.52280865396953}, {\"session\": \"1563330307502-0.99f1edqy7hr\", \"framerate\": 56.31877675959967}, {\"session\": \"1563330963357-0.z3bn2j8n9hh\", \"framerate\": 55.80514709922464}, {\"session\": \"1563331718224-0.swcc4ravyv\", \"framerate\": 56.55816403631451}, {\"session\": \"1563332204356-0.ozuoxehxf6\", \"framerate\": 56.5942201369987}]}};\n",
       "var opt = {};\n",
       "var type = \"vega-lite\";\n",
       "var id = \"1310d6e2-0ceb-49b4-852c-045c1d4050f7\";\n",
       "\n",
       "var output_area = this;\n",
       "\n",
       "require([\"nbextensions/jupyter-vega/index\"], function(vega) {\n",
       "  var target = document.createElement(\"div\");\n",
       "  target.id = id;\n",
       "  target.className = \"vega-embed\";\n",
       "\n",
       "  var style = document.createElement(\"style\");\n",
       "  style.textContent = [\n",
       "    \".vega-embed .error p {\",\n",
       "    \"  color: firebrick;\",\n",
       "    \"  font-size: 14px;\",\n",
       "    \"}\",\n",
       "  ].join(\"\\\\n\");\n",
       "\n",
       "  // element is a jQuery wrapped DOM element inside the output area\n",
       "  // see http://ipython.readthedocs.io/en/stable/api/generated/\\\n",
       "  // IPython.display.html#IPython.display.Javascript.__init__\n",
       "  element[0].appendChild(target);\n",
       "  element[0].appendChild(style);\n",
       "\n",
       "  vega.render(\"#\" + id, spec, type, opt, output_area);\n",
       "}, function (err) {\n",
       "  if (err.requireType !== \"scripterror\") {\n",
       "    throw(err);\n",
       "  }\n",
       "});\n"
      ],
      "text/plain": [
       "<vega.vegalite.VegaLite at 0x1118d93c8>"
      ]
     },
     "execution_count": 10,
     "metadata": {
      "jupyter-vega": "#1310d6e2-0ceb-49b4-852c-045c1d4050f7"
     },
     "output_type": "execute_result"
    },
    {
     "data": {
      "image/png": "[encoded data removed]"
     },
     "metadata": {
      "jupyter-vega": "#1310d6e2-0ceb-49b4-852c-045c1d4050f7"
     },
     "output_type": "display_data"
    }
   ],
   "source": [
    "VegaLite({\n",
    "    \"mark\": \"bar\",\n",
    "    \"encoding\": {\n",
    "        \"x\": {\"field\": \"framerate\", \"type\": \"quantitative\", \"bin\": {\"step\": 3}, \"axis\": {\"title\": \"Mean Fps per session\"}},\n",
    "        \"y\": {\"aggregate\": \"count\", \"axis\": {\"title\": \"Number of sessions\"}}\n",
    "    }, \"width\": 800, \"height\": 200\n",
    "}, study_time.query(\"time_diff < @interaction_threshold\").query('time_diff > 0').groupby(\"session\").framerate.mean().reset_index().query(\"framerate < 70\"))"
   ]
  },
  {
   "cell_type": "markdown",
   "metadata": {},
   "source": [
    "## Slow sessions\n",
    "\n",
    "We consider a session to slow when the mean drawing performance drops below 20 fps"
   ]
  },
  {
   "cell_type": "code",
   "execution_count": 11,
   "metadata": {},
   "outputs": [
    {
     "data": {
      "text/plain": [
       "55"
      ]
     },
     "execution_count": 11,
     "metadata": {},
     "output_type": "execute_result"
    }
   ],
   "source": [
    "slow_sessions = (study_time\n",
    "                 .query(\"time_diff < @interaction_threshold\")\n",
    "                 .query('time_diff > 0')\n",
    "                 .groupby(\"session\").time_diff.mean()\n",
    "                 .reset_index()\n",
    "                 .query(\"time_diff > @acceptable_drawing_time\")\n",
    "                 .rename({\"time_diff\": \"mean_drawtime\"}, axis=1)\n",
    "                )\n",
    "slow_sessions.session.nunique()"
   ]
  },
  {
   "cell_type": "markdown",
   "metadata": {},
   "source": [
    "## Slow users"
   ]
  },
  {
   "cell_type": "code",
   "execution_count": 12,
   "metadata": {
    "scrolled": false
   },
   "outputs": [
    {
     "data": {
      "text/html": [
       "<div>\n",
       "<style scoped>\n",
       "    .dataframe tbody tr th:only-of-type {\n",
       "        vertical-align: middle;\n",
       "    }\n",
       "\n",
       "    .dataframe tbody tr th {\n",
       "        vertical-align: top;\n",
       "    }\n",
       "\n",
       "    .dataframe thead th {\n",
       "        text-align: right;\n",
       "    }\n",
       "</style>\n",
       "<table border=\"1\" class=\"dataframe\">\n",
       "  <thead>\n",
       "    <tr style=\"text-align: right;\">\n",
       "      <th></th>\n",
       "      <th>session</th>\n",
       "      <th>userAgent</th>\n",
       "      <th>resolution</th>\n",
       "      <th>screenWidth</th>\n",
       "      <th>screenHeight</th>\n",
       "    </tr>\n",
       "    <tr>\n",
       "      <th>user</th>\n",
       "      <th></th>\n",
       "      <th></th>\n",
       "      <th></th>\n",
       "      <th></th>\n",
       "      <th></th>\n",
       "    </tr>\n",
       "  </thead>\n",
       "  <tbody>\n",
       "    <tr>\n",
       "      <th>1562865729192-0.a9jx3nl92o</th>\n",
       "      <td>4</td>\n",
       "      <td>Mozilla/5.0 (Windows NT 10.0; Win64; x64) Appl...</td>\n",
       "      <td>1.20</td>\n",
       "      <td>1280</td>\n",
       "      <td>720</td>\n",
       "    </tr>\n",
       "    <tr>\n",
       "      <th>1562868223848-0.r97pivmqcn</th>\n",
       "      <td>1</td>\n",
       "      <td>Mozilla/5.0 (Windows NT 10.0; Win64; x64) Appl...</td>\n",
       "      <td>1.25</td>\n",
       "      <td>1536</td>\n",
       "      <td>864</td>\n",
       "    </tr>\n",
       "    <tr>\n",
       "      <th>1562890777383-0.vfmh1jrmlw</th>\n",
       "      <td>4</td>\n",
       "      <td>Mozilla/5.0 (Windows NT 10.0; Win64; x64) Appl...</td>\n",
       "      <td>0.90</td>\n",
       "      <td>1366</td>\n",
       "      <td>768</td>\n",
       "    </tr>\n",
       "    <tr>\n",
       "      <th>1562918465372-0.yboe8j2244t</th>\n",
       "      <td>5</td>\n",
       "      <td>Mozilla/5.0 (Windows NT 6.3; Win64; x64) Apple...</td>\n",
       "      <td>1.00</td>\n",
       "      <td>1366</td>\n",
       "      <td>768</td>\n",
       "    </tr>\n",
       "    <tr>\n",
       "      <th>1563045696028-0.5uwv2p01pss</th>\n",
       "      <td>4</td>\n",
       "      <td>Mozilla/5.0 (Windows NT 10.0; Win64; x64) Appl...</td>\n",
       "      <td>1.50</td>\n",
       "      <td>1280</td>\n",
       "      <td>720</td>\n",
       "    </tr>\n",
       "    <tr>\n",
       "      <th>1563046539527-0.5o16g9vu4qw</th>\n",
       "      <td>4</td>\n",
       "      <td>Mozilla/5.0 (X11; CrOS x86_64 12105.75.0) Appl...</td>\n",
       "      <td>1.30</td>\n",
       "      <td>1476</td>\n",
       "      <td>830</td>\n",
       "    </tr>\n",
       "    <tr>\n",
       "      <th>1563048176125-0.pt7ykie0f1m</th>\n",
       "      <td>4</td>\n",
       "      <td>Mozilla/5.0 (Windows NT 10.0; Win64; x64) Appl...</td>\n",
       "      <td>0.75</td>\n",
       "      <td>1280</td>\n",
       "      <td>800</td>\n",
       "    </tr>\n",
       "    <tr>\n",
       "      <th>1563082386380-0.534d3zf0oc4</th>\n",
       "      <td>4</td>\n",
       "      <td>Mozilla/5.0 (Macintosh; Intel Mac OS X 10_14_5...</td>\n",
       "      <td>2.00</td>\n",
       "      <td>1680</td>\n",
       "      <td>1050</td>\n",
       "    </tr>\n",
       "    <tr>\n",
       "      <th>1563197987583-0.iql1ytbvkg</th>\n",
       "      <td>4</td>\n",
       "      <td>Mozilla/5.0 (Windows NT 6.3; WOW64) AppleWebKi...</td>\n",
       "      <td>0.75</td>\n",
       "      <td>1364</td>\n",
       "      <td>768</td>\n",
       "    </tr>\n",
       "    <tr>\n",
       "      <th>1563208306000-0.mp9tczpqxsr</th>\n",
       "      <td>2</td>\n",
       "      <td>Mozilla/5.0 (Windows NT 6.1; Win64; x64) Apple...</td>\n",
       "      <td>1.00</td>\n",
       "      <td>1440</td>\n",
       "      <td>900</td>\n",
       "    </tr>\n",
       "    <tr>\n",
       "      <th>1563219700860-0.awlgz29jwbq</th>\n",
       "      <td>4</td>\n",
       "      <td>Mozilla/5.0 (Macintosh; Intel Mac OS X 10_13_6...</td>\n",
       "      <td>1.00</td>\n",
       "      <td>1920</td>\n",
       "      <td>1080</td>\n",
       "    </tr>\n",
       "    <tr>\n",
       "      <th>1563264685793-0.xu0285ft8ha</th>\n",
       "      <td>4</td>\n",
       "      <td>Mozilla/5.0 (Windows NT 10.0; Win64; x64) Appl...</td>\n",
       "      <td>0.80</td>\n",
       "      <td>1366</td>\n",
       "      <td>768</td>\n",
       "    </tr>\n",
       "    <tr>\n",
       "      <th>1563269003758-0.z4wodmdqe</th>\n",
       "      <td>1</td>\n",
       "      <td>Mozilla/5.0 (Macintosh; Intel Mac OS X 10_14_5...</td>\n",
       "      <td>2.00</td>\n",
       "      <td>1440</td>\n",
       "      <td>900</td>\n",
       "    </tr>\n",
       "    <tr>\n",
       "      <th>1563272429651-0.qwi5ekw7n28</th>\n",
       "      <td>4</td>\n",
       "      <td>Mozilla/5.0 (Windows NT 10.0; Win64; x64) Appl...</td>\n",
       "      <td>0.90</td>\n",
       "      <td>1600</td>\n",
       "      <td>900</td>\n",
       "    </tr>\n",
       "    <tr>\n",
       "      <th>1563291716219-0.g4tnfxsqnt</th>\n",
       "      <td>2</td>\n",
       "      <td>Mozilla/5.0 (Windows NT 6.1; Win64; x64) Apple...</td>\n",
       "      <td>1.25</td>\n",
       "      <td>1536</td>\n",
       "      <td>864</td>\n",
       "    </tr>\n",
       "    <tr>\n",
       "      <th>1563301455355-0.l3otdpnqvbj</th>\n",
       "      <td>4</td>\n",
       "      <td>Mozilla/5.0 (Windows NT 10.0; WOW64) AppleWebK...</td>\n",
       "      <td>0.80</td>\n",
       "      <td>1600</td>\n",
       "      <td>1280</td>\n",
       "    </tr>\n",
       "  </tbody>\n",
       "</table>\n",
       "</div>"
      ],
      "text/plain": [
       "                             session  \\\n",
       "user                                   \n",
       "1562865729192-0.a9jx3nl92o         4   \n",
       "1562868223848-0.r97pivmqcn         1   \n",
       "1562890777383-0.vfmh1jrmlw         4   \n",
       "1562918465372-0.yboe8j2244t        5   \n",
       "1563045696028-0.5uwv2p01pss        4   \n",
       "1563046539527-0.5o16g9vu4qw        4   \n",
       "1563048176125-0.pt7ykie0f1m        4   \n",
       "1563082386380-0.534d3zf0oc4        4   \n",
       "1563197987583-0.iql1ytbvkg         4   \n",
       "1563208306000-0.mp9tczpqxsr        2   \n",
       "1563219700860-0.awlgz29jwbq        4   \n",
       "1563264685793-0.xu0285ft8ha        4   \n",
       "1563269003758-0.z4wodmdqe          1   \n",
       "1563272429651-0.qwi5ekw7n28        4   \n",
       "1563291716219-0.g4tnfxsqnt         2   \n",
       "1563301455355-0.l3otdpnqvbj        4   \n",
       "\n",
       "                                                                     userAgent  \\\n",
       "user                                                                             \n",
       "1562865729192-0.a9jx3nl92o   Mozilla/5.0 (Windows NT 10.0; Win64; x64) Appl...   \n",
       "1562868223848-0.r97pivmqcn   Mozilla/5.0 (Windows NT 10.0; Win64; x64) Appl...   \n",
       "1562890777383-0.vfmh1jrmlw   Mozilla/5.0 (Windows NT 10.0; Win64; x64) Appl...   \n",
       "1562918465372-0.yboe8j2244t  Mozilla/5.0 (Windows NT 6.3; Win64; x64) Apple...   \n",
       "1563045696028-0.5uwv2p01pss  Mozilla/5.0 (Windows NT 10.0; Win64; x64) Appl...   \n",
       "1563046539527-0.5o16g9vu4qw  Mozilla/5.0 (X11; CrOS x86_64 12105.75.0) Appl...   \n",
       "1563048176125-0.pt7ykie0f1m  Mozilla/5.0 (Windows NT 10.0; Win64; x64) Appl...   \n",
       "1563082386380-0.534d3zf0oc4  Mozilla/5.0 (Macintosh; Intel Mac OS X 10_14_5...   \n",
       "1563197987583-0.iql1ytbvkg   Mozilla/5.0 (Windows NT 6.3; WOW64) AppleWebKi...   \n",
       "1563208306000-0.mp9tczpqxsr  Mozilla/5.0 (Windows NT 6.1; Win64; x64) Apple...   \n",
       "1563219700860-0.awlgz29jwbq  Mozilla/5.0 (Macintosh; Intel Mac OS X 10_13_6...   \n",
       "1563264685793-0.xu0285ft8ha  Mozilla/5.0 (Windows NT 10.0; Win64; x64) Appl...   \n",
       "1563269003758-0.z4wodmdqe    Mozilla/5.0 (Macintosh; Intel Mac OS X 10_14_5...   \n",
       "1563272429651-0.qwi5ekw7n28  Mozilla/5.0 (Windows NT 10.0; Win64; x64) Appl...   \n",
       "1563291716219-0.g4tnfxsqnt   Mozilla/5.0 (Windows NT 6.1; Win64; x64) Apple...   \n",
       "1563301455355-0.l3otdpnqvbj  Mozilla/5.0 (Windows NT 10.0; WOW64) AppleWebK...   \n",
       "\n",
       "                             resolution  screenWidth  screenHeight  \n",
       "user                                                                \n",
       "1562865729192-0.a9jx3nl92o         1.20         1280           720  \n",
       "1562868223848-0.r97pivmqcn         1.25         1536           864  \n",
       "1562890777383-0.vfmh1jrmlw         0.90         1366           768  \n",
       "1562918465372-0.yboe8j2244t        1.00         1366           768  \n",
       "1563045696028-0.5uwv2p01pss        1.50         1280           720  \n",
       "1563046539527-0.5o16g9vu4qw        1.30         1476           830  \n",
       "1563048176125-0.pt7ykie0f1m        0.75         1280           800  \n",
       "1563082386380-0.534d3zf0oc4        2.00         1680          1050  \n",
       "1563197987583-0.iql1ytbvkg         0.75         1364           768  \n",
       "1563208306000-0.mp9tczpqxsr        1.00         1440           900  \n",
       "1563219700860-0.awlgz29jwbq        1.00         1920          1080  \n",
       "1563264685793-0.xu0285ft8ha        0.80         1366           768  \n",
       "1563269003758-0.z4wodmdqe          2.00         1440           900  \n",
       "1563272429651-0.qwi5ekw7n28        0.90         1600           900  \n",
       "1563291716219-0.g4tnfxsqnt         1.25         1536           864  \n",
       "1563301455355-0.l3otdpnqvbj        0.80         1600          1280  "
      ]
     },
     "execution_count": 12,
     "metadata": {},
     "output_type": "execute_result"
    }
   ],
   "source": [
    "slow_users = (study\n",
    "        .query(\"session.isin(@slow_sessions.session)\")\n",
    "        .groupby([\"user\"])\n",
    "        .agg({\n",
    "            \"session\": \"nunique\",\n",
    "            \"userAgent\": \"first\",\n",
    "            \"resolution\": \"first\",\n",
    "            \"screenWidth\": \"first\",\n",
    "            \"screenHeight\": \"first\",\n",
    "        })\n",
    ")\n",
    "slow_users"
   ]
  },
  {
   "cell_type": "markdown",
   "metadata": {},
   "source": [
    "About 9% of the readers who saw an animated transition had a subpar rendering performance."
   ]
  },
  {
   "cell_type": "code",
   "execution_count": 13,
   "metadata": {},
   "outputs": [
    {
     "data": {
      "text/plain": [
       "0.09248554913294797"
      ]
     },
     "execution_count": 13,
     "metadata": {},
     "output_type": "execute_result"
    }
   ],
   "source": [
    "slow_users.shape[0] / study.user.nunique()"
   ]
  },
  {
   "cell_type": "code",
   "execution_count": 187,
   "metadata": {},
   "outputs": [
    {
     "data": {
      "text/plain": [
       "user\n",
       "1562865729192-0.a9jx3nl92o      Chrome\n",
       "1562890777383-0.vfmh1jrmlw      Chrome\n",
       "1562918465372-0.yboe8j2244t     Chrome\n",
       "1563045696028-0.5uwv2p01pss     Chrome\n",
       "1563046539527-0.5o16g9vu4qw     Chrome\n",
       "1563048176125-0.pt7ykie0f1m     Chrome\n",
       "1563082386380-0.534d3zf0oc4     Chrome\n",
       "1563197987583-0.iql1ytbvkg      Chrome\n",
       "1563207606011-0.24yj59vjmcr    Firefox\n",
       "1563208306000-0.mp9tczpqxsr     Chrome\n",
       "1563219700860-0.awlgz29jwbq     Chrome\n",
       "1563264685793-0.xu0285ft8ha     Chrome\n",
       "1563272429651-0.qwi5ekw7n28     Chrome\n",
       "1563279849063-0.q1ek6irja8      Chrome\n",
       "1563291716219-0.g4tnfxsqnt      Chrome\n",
       "1563301455355-0.l3otdpnqvbj     Chrome\n",
       "Name: userAgent, dtype: object"
      ]
     },
     "execution_count": 187,
     "metadata": {},
     "output_type": "execute_result"
    }
   ],
   "source": [
    "slow_users.userAgent.apply(lambda x: user_agent_parser.Parse(x)[\"user_agent\"][\"family\"])"
   ]
  },
  {
   "cell_type": "code",
   "execution_count": 188,
   "metadata": {},
   "outputs": [
    {
     "data": {
      "text/plain": [
       "user\n",
       "1562865729192-0.a9jx3nl92o       Windows\n",
       "1562890777383-0.vfmh1jrmlw       Windows\n",
       "1562918465372-0.yboe8j2244t      Windows\n",
       "1563045696028-0.5uwv2p01pss      Windows\n",
       "1563046539527-0.5o16g9vu4qw    Chrome OS\n",
       "1563048176125-0.pt7ykie0f1m      Windows\n",
       "1563082386380-0.534d3zf0oc4     Mac OS X\n",
       "1563197987583-0.iql1ytbvkg       Windows\n",
       "1563207606011-0.24yj59vjmcr      Windows\n",
       "1563208306000-0.mp9tczpqxsr      Windows\n",
       "1563219700860-0.awlgz29jwbq     Mac OS X\n",
       "1563264685793-0.xu0285ft8ha      Windows\n",
       "1563272429651-0.qwi5ekw7n28      Windows\n",
       "1563279849063-0.q1ek6irja8      Mac OS X\n",
       "1563291716219-0.g4tnfxsqnt       Windows\n",
       "1563301455355-0.l3otdpnqvbj      Windows\n",
       "Name: userAgent, dtype: object"
      ]
     },
     "execution_count": 188,
     "metadata": {},
     "output_type": "execute_result"
    }
   ],
   "source": [
    "slow_users.userAgent.apply(lambda x: user_agent_parser.Parse(x)[\"os\"][\"family\"])"
   ]
  },
  {
   "cell_type": "markdown",
   "metadata": {},
   "source": [
    "## Export"
   ]
  },
  {
   "cell_type": "code",
   "execution_count": 195,
   "metadata": {},
   "outputs": [],
   "source": [
    "slow_sessions.to_pickle(\"outputs/201907121600_slow_sessions.pkl\", compression=\"gzip\")"
   ]
  },
  {
   "cell_type": "code",
   "execution_count": null,
   "metadata": {},
   "outputs": [],
   "source": []
  }
 ],
 "metadata": {
  "kernelspec": {
   "display_name": "Python 3",
   "language": "python",
   "name": "python3"
  },
  "language_info": {
   "codemirror_mode": {
    "name": "ipython",
    "version": 3
   },
   "file_extension": ".py",
   "mimetype": "text/x-python",
   "name": "python",
   "nbconvert_exporter": "python",
   "pygments_lexer": "ipython3",
   "version": "3.7.3"
  }
 },
 "nbformat": 4,
 "nbformat_minor": 2
}
