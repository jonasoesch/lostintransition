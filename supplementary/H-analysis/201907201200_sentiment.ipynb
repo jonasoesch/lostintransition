{
 "cells": [
  {
   "cell_type": "code",
   "execution_count": 1,
   "metadata": {},
   "outputs": [],
   "source": [
    "import pandas as pd"
   ]
  },
  {
   "cell_type": "markdown",
   "metadata": {},
   "source": [
    "# Sentiment analysis\n",
    "\n",
    "This notebook runs a sentiment analysis with the IBM Watson API on all the answers."
   ]
  },
  {
   "cell_type": "code",
   "execution_count": 2,
   "metadata": {},
   "outputs": [],
   "source": [
    "coded = pd.read_pickle(\"outputs/201907231200_coded.pkl\", compression=\"gzip\")"
   ]
  },
  {
   "cell_type": "code",
   "execution_count": 49,
   "metadata": {},
   "outputs": [
    {
     "data": {
      "text/plain": [
       "(426, 2)"
      ]
     },
     "execution_count": 49,
     "metadata": {},
     "output_type": "execute_result"
    }
   ],
   "source": [
    "(pd.read_csv(\"inputs/coded/20190730-pilot3-answers - Jonas.csv\", na_values=\"na\")\n",
    "    .query(\"coder == 'Jonas'\")\n",
    "    .query(\"(chart == '@answer: Qrelationship')\")\n",
    "    .filter([\"session\", \"message\"])\n",
    ").shape"
   ]
  },
  {
   "cell_type": "code",
   "execution_count": 12,
   "metadata": {},
   "outputs": [],
   "source": [
    "from ibm_watson import ToneAnalyzerV3"
   ]
  },
  {
   "cell_type": "code",
   "execution_count": 15,
   "metadata": {},
   "outputs": [],
   "source": [
    "tone_analyzer = ToneAnalyzerV3(\n",
    "    version='2017-09-21',\n",
    "    iam_apikey='',\n",
    "    url=\"https://gateway-lon.watsonplatform.net/tone-analyzer/api\"\n",
    "    )"
   ]
  },
  {
   "cell_type": "markdown",
   "metadata": {},
   "source": [
    "!!! Careful, this calls the API quite a few times"
   ]
  },
  {
   "cell_type": "code",
   "execution_count": 51,
   "metadata": {},
   "outputs": [
    {
     "name": "stderr",
     "output_type": "stream",
     "text": [
      "/usr/local/Cellar/ipython/6.5.0/libexec/vendor/lib/python3.7/site-packages/ipykernel_launcher.py:10: FutureWarning: set_value is deprecated and will be removed in a future release. Please use .at[] or .iat[] accessors instead\n",
      "  # Remove the CWD from sys.path while we load stuff.\n"
     ]
    }
   ],
   "source": [
    "relationship = (pd.read_csv(\"inputs/coded/20190730-pilot3-answers - Jonas.csv\", na_values=\"na\")\n",
    "    .query(\"coder == 'Jonas'\")\n",
    "    .query(\"(chart == '@answer: Qrelationship')\")\n",
    "    .filter([\"session\", \"message\"])\n",
    ")\n",
    "\n",
    "for index, text in relationship[\"message\"].iteritems():\n",
    "    result = tone_analyzer.tone(text, content_type='text/plain').get_result()\n",
    "    for tone in result[\"document_tone\"][\"tones\"]:\n",
    "        relationship.set_value(index, tone[\"tone_id\"], tone[\"score\"])\n",
    "\n",
    "\n",
    "relationship.to_pickle(\"outputs/20190822_tones.pkl\", compression=\"gzip\")"
   ]
  },
  {
   "cell_type": "code",
   "execution_count": null,
   "metadata": {},
   "outputs": [],
   "source": []
  },
  {
   "cell_type": "code",
   "execution_count": null,
   "metadata": {},
   "outputs": [],
   "source": []
  }
 ],
 "metadata": {
  "kernelspec": {
   "display_name": "Python 3",
   "language": "python",
   "name": "python3"
  },
  "language_info": {
   "codemirror_mode": {
    "name": "ipython",
    "version": 3
   },
   "file_extension": ".py",
   "mimetype": "text/x-python",
   "name": "python",
   "nbconvert_exporter": "python",
   "pygments_lexer": "ipython3",
   "version": "3.7.3"
  }
 },
 "nbformat": 4,
 "nbformat_minor": 2
}
