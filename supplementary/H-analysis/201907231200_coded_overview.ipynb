{
 "cells": [
  {
   "cell_type": "code",
   "execution_count": 2,
   "metadata": {},
   "outputs": [],
   "source": [
    "import pandas as pd\n",
    "from pdvega import Axes as Vega"
   ]
  },
  {
   "cell_type": "markdown",
   "metadata": {},
   "source": [
    "# Coded overview\n",
    "\n",
    "This notebook gives an overview of the demographics of the participants and the distribution of answers in the survey and the questionnaire."
   ]
  },
  {
   "cell_type": "markdown",
   "metadata": {},
   "source": [
    "## Load data"
   ]
  },
  {
   "cell_type": "code",
   "execution_count": 6,
   "metadata": {},
   "outputs": [],
   "source": [
    "study = pd.read_pickle(\"outputs/201907121200_transitions.pkl\", compression=\"gzip\")"
   ]
  },
  {
   "cell_type": "markdown",
   "metadata": {},
   "source": [
    "## Age distribution"
   ]
  },
  {
   "cell_type": "code",
   "execution_count": 3,
   "metadata": {},
   "outputs": [
    {
     "data": {
      "text/html": [
       "<div class=\"vega-embed\" id=\"a6c68b88-b8c0-46f0-81e9-2a2ec5bc1fbc\"></div>\n",
       "\n",
       "<style>\n",
       ".vega-embed .vega-actions > a {\n",
       "    transition: opacity 200ms ease-in;\n",
       "    opacity: 0.3;\n",
       "    margin-right: 0.6em;\n",
       "    color: #444;\n",
       "    text-decoration: none;\n",
       "}\n",
       "\n",
       ".vega-embed .vega-actions > a:hover {\n",
       "    color: #000;\n",
       "    text-decoration: underline;\n",
       "}\n",
       "\n",
       ".vega-embed:hover .vega-actions > a {\n",
       "    opacity: 1;\n",
       "    transition: 0s;\n",
       "}\n",
       "\n",
       ".vega-embed .error p {\n",
       "    color: firebrick;\n",
       "    font-size: 1.2em;\n",
       "}\n",
       "</style>\n"
      ]
     },
     "metadata": {
      "jupyter-vega3": "#a6c68b88-b8c0-46f0-81e9-2a2ec5bc1fbc"
     },
     "output_type": "display_data"
    },
    {
     "data": {
      "application/javascript": [
       "var spec = {\"mark\": \"bar\", \"encoding\": {\"x\": {\"field\": \"age\", \"type\": \"quantitative\", \"bin\": true}, \"y\": {\"aggregate\": \"count\", \"type\": \"quantitative\"}}, \"data\": {\"values\": [{\"user\": \"1562866268045-0.va714vpqpoh\", \"age\": 48.0}, {\"user\": \"1562865729192-0.a9jx3nl92o\", \"age\": 26.0}, {\"user\": \"1562868223848-0.r97pivmqcn\", \"age\": 32.0}, {\"user\": \"1562867459004-0.kadkc7113pc\", \"age\": 32.0}, {\"user\": \"1562871695547-0.t1vkmjpodu\", \"age\": 30.0}, {\"user\": \"1562876745404-0.s990enrl9gq\", \"age\": 36.0}, {\"user\": \"1562877527959-0.70c7dtv29hi\", \"age\": 31.0}, {\"user\": \"1562881202911-0.4bngjb2ckyf\", \"age\": 20.0}, {\"user\": \"1562879446777-0.km4p3fg7u8d\", \"age\": 23.0}, {\"user\": \"1562890777383-0.vfmh1jrmlw\", \"age\": 46.0}, {\"user\": \"1562901132408-0.g973l6qhvz\", \"age\": 36.0}, {\"user\": \"1562918465372-0.yboe8j2244t\", \"age\": 48.0}, {\"user\": \"1562957522046-0.be7aontsehg\", \"age\": 35.0}, {\"user\": \"1563040468619-0.tqydkdqqfnf\", \"age\": 29.0}, {\"user\": \"1563041816435-0.3d8eoxk4t6j\", \"age\": 19.0}, {\"user\": \"1563046539527-0.5o16g9vu4qw\", \"age\": 54.0}, {\"user\": \"1563047368105-0.u67pk8n8dki\", \"age\": 35.0}, {\"user\": \"1563045696028-0.5uwv2p01pss\", \"age\": 40.0}, {\"user\": \"1563048176125-0.pt7ykie0f1m\", \"age\": 28.0}, {\"user\": \"1563053255934-0.tbbdm53fyto\", \"age\": 37.0}, {\"user\": \"1563072965112-0.yeewmtthsz\", \"age\": 30.0}, {\"user\": \"1563082386380-0.534d3zf0oc4\", \"age\": 25.0}, {\"user\": \"1563175178919-0.2wagdbzx23e\", \"age\": 23.0}, {\"user\": \"1563179680341-0.b7uh6wkhoyb\", \"age\": 23.0}, {\"user\": \"1563179670911-0.uz66mb1ybb\", \"age\": 24.0}, {\"user\": \"1563182891976-0.oh2xebzfj1d\", \"age\": 28.0}, {\"user\": \"1563197987583-0.iql1ytbvkg\", \"age\": 28.0}, {\"user\": \"1563207606011-0.24yj59vjmcr\", \"age\": 26.0}, {\"user\": \"1563208306000-0.mp9tczpqxsr\", \"age\": 66.0}, {\"user\": \"1563217971486-0.4mv9zwx36uy\", \"age\": 26.0}, {\"user\": \"1563219179626-0.0v0rs1uavf5c\", \"age\": 32.0}, {\"user\": \"1563218492495-0.5cvhpp90vdw\", \"age\": 26.0}, {\"user\": \"1563219700860-0.awlgz29jwbq\", \"age\": 34.0}, {\"user\": \"1563238996505-0.ide20dcqx5b\", \"age\": 19.0}, {\"user\": \"1563235693289-0.4untqs8bva8\", \"age\": 40.0}, {\"user\": \"1563252852729-0.8ywpwqb2xmg\", \"age\": 28.0}, {\"user\": \"1563261474458-0.zvnd0enqzip\", \"age\": 30.0}, {\"user\": \"1563264685793-0.xu0285ft8ha\", \"age\": 25.0}, {\"user\": \"1563269003758-0.z4wodmdqe\", \"age\": 35.0}, {\"user\": \"1563272429651-0.qwi5ekw7n28\", \"age\": 25.0}, {\"user\": \"1563279849063-0.q1ek6irja8\", \"age\": 27.0}, {\"user\": \"1563284431274-0.f808cyk5gjn\", \"age\": 33.0}, {\"user\": \"1563283962534-0.i49x48i1emi\", \"age\": 24.0}, {\"user\": \"1563283846882-0.hr3znakwbak\", \"age\": 51.0}, {\"user\": \"1563290519857-0.6w3bbke3vi5\", \"age\": 31.0}, {\"user\": \"1563290706769-0.zgmtb4qfmwk\", \"age\": 32.0}, {\"user\": \"1563301455355-0.l3otdpnqvbj\", \"age\": 58.0}, {\"user\": \"1563309301106-0.6ahv1vjx26j\", \"age\": 25.0}, {\"user\": \"1563316415435-0.xq4oh0tvyzf\", \"age\": 33.0}, {\"user\": \"1563317511721-0.aux98qljzib\", \"age\": 39.0}, {\"user\": \"1563320311164-0.flloxvf1aro\", \"age\": 44.0}, {\"user\": \"1563320387875-0.8ywc6b15mhq\", \"age\": 38.0}, {\"user\": \"1563329268851-0.z2ma6pxp0gs\", \"age\": 38.0}]}};\n",
       "var opt = {};\n",
       "var selector = \"#a6c68b88-b8c0-46f0-81e9-2a2ec5bc1fbc\";\n",
       "var type = \"vega-lite\";\n",
       "\n",
       "var output_area = this;\n",
       "\n",
       "require(['nbextensions/jupyter-vega3/index'], function(vega) {\n",
       "  vega.render(selector, spec, type, opt, output_area);\n",
       "}, function (err) {\n",
       "  if (err.requireType !== 'scripterror') {\n",
       "    throw(err);\n",
       "  }\n",
       "});\n"
      ]
     },
     "metadata": {
      "jupyter-vega3": "#a6c68b88-b8c0-46f0-81e9-2a2ec5bc1fbc"
     },
     "output_type": "display_data"
    },
    {
     "data": {
      "image/png": "[encoded data removed]"
     },
     "metadata": {
      "jupyter-vega3": "#a6c68b88-b8c0-46f0-81e9-2a2ec5bc1fbc"
     },
     "output_type": "display_data"
    }
   ],
   "source": [
    "age = (pd.read_csv(\"inputs/coded/20190730-pilot3-answers - Jonas.csv\", na_values=\"na\")\n",
    "    .query(\"chart == '@answer: age'\")\n",
    "    .filter([\"user\", \"age\"])\n",
    ")\n",
    "Vega({\n",
    "    \"mark\": \"bar\",\n",
    "    \"encoding\": {\n",
    "        \"x\": {\n",
    "            \"field\": \"age\",\n",
    "            \"type\": \"quantitative\",\n",
    "            \"bin\": True\n",
    "        },\n",
    "        \"y\": {\n",
    "            \"aggregate\": \"count\",\n",
    "            \"type\": \"quantitative\"\n",
    "        }\n",
    "    }\n",
    "}, age)"
   ]
  },
  {
   "cell_type": "markdown",
   "metadata": {},
   "source": [
    "## Colorblind?"
   ]
  },
  {
   "cell_type": "code",
   "execution_count": 7,
   "metadata": {},
   "outputs": [
    {
     "data": {
      "text/html": [
       "<div class=\"vega-embed\" id=\"d38bd9cb-99f0-4216-9153-0cb603d6ff96\"></div>\n",
       "\n",
       "<style>\n",
       ".vega-embed .vega-actions > a {\n",
       "    transition: opacity 200ms ease-in;\n",
       "    opacity: 0.3;\n",
       "    margin-right: 0.6em;\n",
       "    color: #444;\n",
       "    text-decoration: none;\n",
       "}\n",
       "\n",
       ".vega-embed .vega-actions > a:hover {\n",
       "    color: #000;\n",
       "    text-decoration: underline;\n",
       "}\n",
       "\n",
       ".vega-embed:hover .vega-actions > a {\n",
       "    opacity: 1;\n",
       "    transition: 0s;\n",
       "}\n",
       "\n",
       ".vega-embed .error p {\n",
       "    color: firebrick;\n",
       "    font-size: 1.2em;\n",
       "}\n",
       "</style>\n"
      ]
     },
     "metadata": {
      "jupyter-vega3": "#d38bd9cb-99f0-4216-9153-0cb603d6ff96"
     },
     "output_type": "display_data"
    },
    {
     "data": {
      "application/javascript": [
       "var spec = {\"mark\": \"bar\", \"encoding\": {\"x\": {\"aggregate\": \"count\", \"type\": \"quantitative\"}, \"color\": {\"field\": \"colorblind\", \"type\": \"ordinal\"}}, \"width\": 800, \"data\": {\"values\": [{\"user\": \"1562866268045-0.va714vpqpoh\", \"colorblind\": 0.0}, {\"user\": \"1562865729192-0.a9jx3nl92o\", \"colorblind\": 0.0}, {\"user\": \"1562868223848-0.r97pivmqcn\", \"colorblind\": 0.0}, {\"user\": \"1562867459004-0.kadkc7113pc\", \"colorblind\": 1.0}, {\"user\": \"1562871695547-0.t1vkmjpodu\", \"colorblind\": 0.0}, {\"user\": \"1562876745404-0.s990enrl9gq\", \"colorblind\": 0.0}, {\"user\": \"1562877527959-0.70c7dtv29hi\", \"colorblind\": 0.0}, {\"user\": \"1562881202911-0.4bngjb2ckyf\", \"colorblind\": 0.0}, {\"user\": \"1562879446777-0.km4p3fg7u8d\", \"colorblind\": 0.0}, {\"user\": \"1562890777383-0.vfmh1jrmlw\", \"colorblind\": 0.0}, {\"user\": \"1562901132408-0.g973l6qhvz\", \"colorblind\": 0.0}, {\"user\": \"1562918465372-0.yboe8j2244t\", \"colorblind\": 0.0}, {\"user\": \"1562957522046-0.be7aontsehg\", \"colorblind\": 0.0}, {\"user\": \"1563040468619-0.tqydkdqqfnf\", \"colorblind\": 0.0}, {\"user\": \"1563041816435-0.3d8eoxk4t6j\", \"colorblind\": 0.0}, {\"user\": \"1563046539527-0.5o16g9vu4qw\", \"colorblind\": 1.0}, {\"user\": \"1563047368105-0.u67pk8n8dki\", \"colorblind\": 0.0}, {\"user\": \"1563045696028-0.5uwv2p01pss\", \"colorblind\": 0.0}, {\"user\": \"1563048176125-0.pt7ykie0f1m\", \"colorblind\": 0.0}, {\"user\": \"1563053255934-0.tbbdm53fyto\", \"colorblind\": 0.0}, {\"user\": \"1563072965112-0.yeewmtthsz\", \"colorblind\": 0.0}, {\"user\": \"1563082386380-0.534d3zf0oc4\", \"colorblind\": 0.0}, {\"user\": \"1563175178919-0.2wagdbzx23e\", \"colorblind\": 0.0}, {\"user\": \"1563179680341-0.b7uh6wkhoyb\", \"colorblind\": 0.0}, {\"user\": \"1563179670911-0.uz66mb1ybb\", \"colorblind\": 0.0}, {\"user\": \"1563182891976-0.oh2xebzfj1d\", \"colorblind\": 0.0}, {\"user\": \"1563197987583-0.iql1ytbvkg\", \"colorblind\": 0.0}, {\"user\": \"1563207606011-0.24yj59vjmcr\", \"colorblind\": 1.0}, {\"user\": \"1563208306000-0.mp9tczpqxsr\", \"colorblind\": 0.0}, {\"user\": \"1563217971486-0.4mv9zwx36uy\", \"colorblind\": 0.0}, {\"user\": \"1563219179626-0.0v0rs1uavf5c\", \"colorblind\": 0.0}, {\"user\": \"1563218492495-0.5cvhpp90vdw\", \"colorblind\": 0.0}, {\"user\": \"1563219700860-0.awlgz29jwbq\", \"colorblind\": 0.0}, {\"user\": \"1563238996505-0.ide20dcqx5b\", \"colorblind\": 0.0}, {\"user\": \"1563235693289-0.4untqs8bva8\", \"colorblind\": 0.0}, {\"user\": \"1563252852729-0.8ywpwqb2xmg\", \"colorblind\": 0.0}, {\"user\": \"1563261474458-0.zvnd0enqzip\", \"colorblind\": 0.0}, {\"user\": \"1563264685793-0.xu0285ft8ha\", \"colorblind\": 0.0}, {\"user\": \"1563269003758-0.z4wodmdqe\", \"colorblind\": 0.0}, {\"user\": \"1563272429651-0.qwi5ekw7n28\", \"colorblind\": 0.0}, {\"user\": \"1563279849063-0.q1ek6irja8\", \"colorblind\": 0.0}, {\"user\": \"1563284431274-0.f808cyk5gjn\", \"colorblind\": 0.0}, {\"user\": \"1563283962534-0.i49x48i1emi\", \"colorblind\": 0.0}, {\"user\": \"1563283846882-0.hr3znakwbak\", \"colorblind\": 0.0}, {\"user\": \"1563290519857-0.6w3bbke3vi5\", \"colorblind\": 0.0}, {\"user\": \"1563290706769-0.zgmtb4qfmwk\", \"colorblind\": 0.0}, {\"user\": \"1563301455355-0.l3otdpnqvbj\", \"colorblind\": 0.0}, {\"user\": \"1563309301106-0.6ahv1vjx26j\", \"colorblind\": 0.0}, {\"user\": \"1563316415435-0.xq4oh0tvyzf\", \"colorblind\": 0.0}, {\"user\": \"1563317511721-0.aux98qljzib\", \"colorblind\": 0.0}, {\"user\": \"1563320311164-0.flloxvf1aro\", \"colorblind\": 0.0}, {\"user\": \"1563320387875-0.8ywc6b15mhq\", \"colorblind\": 0.0}, {\"user\": \"1563329268851-0.z2ma6pxp0gs\", \"colorblind\": 0.0}]}};\n",
       "var opt = {};\n",
       "var selector = \"#d38bd9cb-99f0-4216-9153-0cb603d6ff96\";\n",
       "var type = \"vega-lite\";\n",
       "\n",
       "var output_area = this;\n",
       "\n",
       "require(['nbextensions/jupyter-vega3/index'], function(vega) {\n",
       "  vega.render(selector, spec, type, opt, output_area);\n",
       "}, function (err) {\n",
       "  if (err.requireType !== 'scripterror') {\n",
       "    throw(err);\n",
       "  }\n",
       "});\n"
      ]
     },
     "metadata": {
      "jupyter-vega3": "#d38bd9cb-99f0-4216-9153-0cb603d6ff96"
     },
     "output_type": "display_data"
    },
    {
     "data": {
      "image/png": "[encoded data removed]"
     },
     "metadata": {
      "jupyter-vega3": "#d38bd9cb-99f0-4216-9153-0cb603d6ff96"
     },
     "output_type": "display_data"
    }
   ],
   "source": [
    "colorblind = (pd.read_csv(\"inputs/coded/20190730-pilot3-answers - Jonas.csv\", na_values=\"na\")\n",
    "    .query(\"chart == '@answer: color'\")\n",
    "    .filter([\"user\", \"correct?\"])\n",
    "    .rename({\"correct?\": \"colorblind\"}, axis=1)\n",
    "    .replace({0:1, 1:0})\n",
    ")\n",
    "Vega({\n",
    "    \"mark\": \"bar\",\n",
    "    \"encoding\": {\n",
    "        \"x\": {\n",
    "            \"aggregate\": \"count\",\n",
    "            \"type\": \"quantitative\"\n",
    "        },\n",
    "        \"color\": {\n",
    "            \"field\": \"colorblind\",\n",
    "            \"type\": \"ordinal\"\n",
    "        }\n",
    "    },\n",
    "    \"width\": 800\n",
    "}, colorblind)"
   ]
  },
  {
   "cell_type": "markdown",
   "metadata": {},
   "source": [
    "## Gender distribution"
   ]
  },
  {
   "cell_type": "code",
   "execution_count": 8,
   "metadata": {
    "scrolled": true
   },
   "outputs": [
    {
     "data": {
      "text/html": [
       "<div class=\"vega-embed\" id=\"76261cdc-9b38-4c20-89b9-036259fd7e38\"></div>\n",
       "\n",
       "<style>\n",
       ".vega-embed .vega-actions > a {\n",
       "    transition: opacity 200ms ease-in;\n",
       "    opacity: 0.3;\n",
       "    margin-right: 0.6em;\n",
       "    color: #444;\n",
       "    text-decoration: none;\n",
       "}\n",
       "\n",
       ".vega-embed .vega-actions > a:hover {\n",
       "    color: #000;\n",
       "    text-decoration: underline;\n",
       "}\n",
       "\n",
       ".vega-embed:hover .vega-actions > a {\n",
       "    opacity: 1;\n",
       "    transition: 0s;\n",
       "}\n",
       "\n",
       ".vega-embed .error p {\n",
       "    color: firebrick;\n",
       "    font-size: 1.2em;\n",
       "}\n",
       "</style>\n"
      ]
     },
     "metadata": {
      "jupyter-vega3": "#76261cdc-9b38-4c20-89b9-036259fd7e38"
     },
     "output_type": "display_data"
    },
    {
     "data": {
      "application/javascript": [
       "var spec = {\"mark\": \"bar\", \"encoding\": {\"color\": {\"field\": \"gender\", \"type\": \"nominal\"}, \"x\": {\"aggregate\": \"count\", \"type\": \"quantitative\"}}, \"width\": 800, \"data\": {\"values\": [{\"user\": \"1562866268045-0.va714vpqpoh\", \"gender\": \"Male\"}, {\"user\": \"1562865729192-0.a9jx3nl92o\", \"gender\": \"Male\"}, {\"user\": \"1562868223848-0.r97pivmqcn\", \"gender\": \"Female\"}, {\"user\": \"1562867459004-0.kadkc7113pc\", \"gender\": \"Male\"}, {\"user\": \"1562871695547-0.t1vkmjpodu\", \"gender\": \"Male\"}, {\"user\": \"1562876745404-0.s990enrl9gq\", \"gender\": \"Female\"}, {\"user\": \"1562877527959-0.70c7dtv29hi\", \"gender\": \"Male\"}, {\"user\": \"1562881202911-0.4bngjb2ckyf\", \"gender\": \"Male\"}, {\"user\": \"1562879446777-0.km4p3fg7u8d\", \"gender\": \"Male\"}, {\"user\": \"1562890777383-0.vfmh1jrmlw\", \"gender\": \"Female\"}, {\"user\": \"1562901132408-0.g973l6qhvz\", \"gender\": \"Male\"}, {\"user\": \"1562918465372-0.yboe8j2244t\", \"gender\": \"Female\"}, {\"user\": \"1562957522046-0.be7aontsehg\", \"gender\": \"Female\"}, {\"user\": \"1563040468619-0.tqydkdqqfnf\", \"gender\": \"Male\"}, {\"user\": \"1563041816435-0.3d8eoxk4t6j\", \"gender\": \"Female\"}, {\"user\": \"1563046539527-0.5o16g9vu4qw\", \"gender\": \"Male\"}, {\"user\": \"1563047368105-0.u67pk8n8dki\", \"gender\": \"Female\"}, {\"user\": \"1563045696028-0.5uwv2p01pss\", \"gender\": \"Female\"}, {\"user\": \"1563048176125-0.pt7ykie0f1m\", \"gender\": \"Male\"}, {\"user\": \"1563053255934-0.tbbdm53fyto\", \"gender\": \"Male\"}, {\"user\": \"1563072965112-0.yeewmtthsz\", \"gender\": \"Male\"}, {\"user\": \"1563082386380-0.534d3zf0oc4\", \"gender\": \"Female\"}, {\"user\": \"1563175178919-0.2wagdbzx23e\", \"gender\": \"Female\"}, {\"user\": \"1563179680341-0.b7uh6wkhoyb\", \"gender\": \"Male\"}, {\"user\": \"1563179670911-0.uz66mb1ybb\", \"gender\": \"Male\"}, {\"user\": \"1563182891976-0.oh2xebzfj1d\", \"gender\": \"Male\"}, {\"user\": \"1563197987583-0.iql1ytbvkg\", \"gender\": \"Female\"}, {\"user\": \"1563207606011-0.24yj59vjmcr\", \"gender\": \"Male\"}, {\"user\": \"1563208306000-0.mp9tczpqxsr\", \"gender\": \"Male\"}, {\"user\": \"1563217971486-0.4mv9zwx36uy\", \"gender\": \"Male\"}, {\"user\": \"1563219179626-0.0v0rs1uavf5c\", \"gender\": \"Male\"}, {\"user\": \"1563218492495-0.5cvhpp90vdw\", \"gender\": \"Male\"}, {\"user\": \"1563219700860-0.awlgz29jwbq\", \"gender\": \"Female\"}, {\"user\": \"1563238996505-0.ide20dcqx5b\", \"gender\": \"Male\"}, {\"user\": \"1563235693289-0.4untqs8bva8\", \"gender\": \"Female\"}, {\"user\": \"1563252852729-0.8ywpwqb2xmg\", \"gender\": \"Male\"}, {\"user\": \"1563261474458-0.zvnd0enqzip\", \"gender\": \"Male\"}, {\"user\": \"1563264685793-0.xu0285ft8ha\", \"gender\": \"Female\"}, {\"user\": \"1563269003758-0.z4wodmdqe\", \"gender\": \"Male\"}, {\"user\": \"1563272429651-0.qwi5ekw7n28\", \"gender\": \"Male\"}, {\"user\": \"1563279849063-0.q1ek6irja8\", \"gender\": \"Male\"}, {\"user\": \"1563284431274-0.f808cyk5gjn\", \"gender\": \"Male\"}, {\"user\": \"1563283962534-0.i49x48i1emi\", \"gender\": \"Female\"}, {\"user\": \"1563283846882-0.hr3znakwbak\", \"gender\": \"Male\"}, {\"user\": \"1563290519857-0.6w3bbke3vi5\", \"gender\": \"Male\"}, {\"user\": \"1563290706769-0.zgmtb4qfmwk\", \"gender\": \"Male\"}, {\"user\": \"1563301455355-0.l3otdpnqvbj\", \"gender\": \"Male\"}, {\"user\": \"1563309301106-0.6ahv1vjx26j\", \"gender\": \"Female\"}, {\"user\": \"1563316415435-0.xq4oh0tvyzf\", \"gender\": \"Male\"}, {\"user\": \"1563317511721-0.aux98qljzib\", \"gender\": \"Female\"}, {\"user\": \"1563320311164-0.flloxvf1aro\", \"gender\": \"Female\"}, {\"user\": \"1563320387875-0.8ywc6b15mhq\", \"gender\": \"Female\"}, {\"user\": \"1563329268851-0.z2ma6pxp0gs\", \"gender\": \"Female\"}]}};\n",
       "var opt = {};\n",
       "var selector = \"#76261cdc-9b38-4c20-89b9-036259fd7e38\";\n",
       "var type = \"vega-lite\";\n",
       "\n",
       "var output_area = this;\n",
       "\n",
       "require(['nbextensions/jupyter-vega3/index'], function(vega) {\n",
       "  vega.render(selector, spec, type, opt, output_area);\n",
       "}, function (err) {\n",
       "  if (err.requireType !== 'scripterror') {\n",
       "    throw(err);\n",
       "  }\n",
       "});\n"
      ]
     },
     "metadata": {
      "jupyter-vega3": "#76261cdc-9b38-4c20-89b9-036259fd7e38"
     },
     "output_type": "display_data"
    },
    {
     "data": {
      "image/png": "[encoded data removed]"
     },
     "metadata": {
      "jupyter-vega3": "#76261cdc-9b38-4c20-89b9-036259fd7e38"
     },
     "output_type": "display_data"
    }
   ],
   "source": [
    "gender = (study\n",
    "          .query(\"chart == '@answer: gender'\")\n",
    "          .filter([\"user\", \"message\"])\n",
    "          .rename({\"message\": \"gender\"}, axis=1)\n",
    ")\n",
    "Vega({\n",
    "    \"mark\": \"bar\",\n",
    "    \"encoding\": {\n",
    "        \"color\": {\n",
    "            \"field\": \"gender\",\n",
    "            \"type\": \"nominal\"\n",
    "        },\n",
    "        \"x\": {\n",
    "            \"aggregate\": \"count\",\n",
    "            \"type\": \"quantitative\"\n",
    "        }\n",
    "    }, \"width\": 800\n",
    "}, gender)"
   ]
  },
  {
   "cell_type": "markdown",
   "metadata": {},
   "source": [
    "## Level of education"
   ]
  },
  {
   "cell_type": "code",
   "execution_count": 9,
   "metadata": {},
   "outputs": [
    {
     "data": {
      "text/html": [
       "<div class=\"vega-embed\" id=\"08ed8d9f-49fb-4cf7-8700-c3138a7083be\"></div>\n",
       "\n",
       "<style>\n",
       ".vega-embed .vega-actions > a {\n",
       "    transition: opacity 200ms ease-in;\n",
       "    opacity: 0.3;\n",
       "    margin-right: 0.6em;\n",
       "    color: #444;\n",
       "    text-decoration: none;\n",
       "}\n",
       "\n",
       ".vega-embed .vega-actions > a:hover {\n",
       "    color: #000;\n",
       "    text-decoration: underline;\n",
       "}\n",
       "\n",
       ".vega-embed:hover .vega-actions > a {\n",
       "    opacity: 1;\n",
       "    transition: 0s;\n",
       "}\n",
       "\n",
       ".vega-embed .error p {\n",
       "    color: firebrick;\n",
       "    font-size: 1.2em;\n",
       "}\n",
       "</style>\n"
      ]
     },
     "metadata": {
      "jupyter-vega3": "#08ed8d9f-49fb-4cf7-8700-c3138a7083be"
     },
     "output_type": "display_data"
    },
    {
     "data": {
      "application/javascript": [
       "var spec = {\"mark\": \"bar\", \"encoding\": {\"y\": {\"field\": \"education\", \"type\": \"ordinal\", \"sort\": [\"Primary education\", \"High school or equivalent\", \"Professional education, associates degree or equivalent\", \"Bachelor degree or equivalent\", \"Master degree, equivalent or higher\"]}, \"x\": {\"aggregate\": \"count\", \"type\": \"quantitative\"}}, \"width\": 400, \"data\": {\"values\": [{\"user\": \"1562866268045-0.va714vpqpoh\", \"education\": \"Bachelor's degree or equivalent\"}, {\"user\": \"1562865729192-0.a9jx3nl92o\", \"education\": \"Bachelor's degree or equivalent\"}, {\"user\": \"1562868223848-0.r97pivmqcn\", \"education\": \"Professional education, associates degree or equivalent\"}, {\"user\": \"1562867459004-0.kadkc7113pc\", \"education\": \"Bachelor's degree or equivalent\"}, {\"user\": \"1562871695547-0.t1vkmjpodu\", \"education\": \"Bachelor's degree or equivalent\"}, {\"user\": \"1562876745404-0.s990enrl9gq\", \"education\": \"Master's degree, equivalent or higher\"}, {\"user\": \"1562877527959-0.70c7dtv29hi\", \"education\": \"Bachelor's degree or equivalent\"}, {\"user\": \"1562881202911-0.4bngjb2ckyf\", \"education\": \"Professional education, associates degree or equivalent\"}, {\"user\": \"1562879446777-0.km4p3fg7u8d\", \"education\": \"High school or equivalent\"}, {\"user\": \"1562890777383-0.vfmh1jrmlw\", \"education\": \"Master's degree, equivalent or higher\"}, {\"user\": \"1562901132408-0.g973l6qhvz\", \"education\": \"High school or equivalent\"}, {\"user\": \"1562918465372-0.yboe8j2244t\", \"education\": \"Bachelor's degree or equivalent\"}, {\"user\": \"1562957522046-0.be7aontsehg\", \"education\": \"Bachelor's degree or equivalent\"}, {\"user\": \"1563040468619-0.tqydkdqqfnf\", \"education\": \"High school or equivalent\"}, {\"user\": \"1563041816435-0.3d8eoxk4t6j\", \"education\": \"High school or equivalent\"}, {\"user\": \"1563046539527-0.5o16g9vu4qw\", \"education\": \"Bachelor's degree or equivalent\"}, {\"user\": \"1563047368105-0.u67pk8n8dki\", \"education\": \"Master's degree, equivalent or higher\"}, {\"user\": \"1563045696028-0.5uwv2p01pss\", \"education\": \"Bachelor's degree or equivalent\"}, {\"user\": \"1563048176125-0.pt7ykie0f1m\", \"education\": \"Master's degree, equivalent or higher\"}, {\"user\": \"1563053255934-0.tbbdm53fyto\", \"education\": \"Bachelor's degree or equivalent\"}, {\"user\": \"1563072965112-0.yeewmtthsz\", \"education\": \"Bachelor's degree or equivalent\"}, {\"user\": \"1563082386380-0.534d3zf0oc4\", \"education\": \"Bachelor's degree or equivalent\"}, {\"user\": \"1563175178919-0.2wagdbzx23e\", \"education\": \"Bachelor's degree or equivalent\"}, {\"user\": \"1563179680341-0.b7uh6wkhoyb\", \"education\": \"Bachelor's degree or equivalent\"}, {\"user\": \"1563179670911-0.uz66mb1ybb\", \"education\": \"Bachelor's degree or equivalent\"}, {\"user\": \"1563182891976-0.oh2xebzfj1d\", \"education\": \"Bachelor's degree or equivalent\"}, {\"user\": \"1563197987583-0.iql1ytbvkg\", \"education\": \"Bachelor's degree or equivalent\"}, {\"user\": \"1563207606011-0.24yj59vjmcr\", \"education\": \"Professional education, associates degree or equivalent\"}, {\"user\": \"1563208306000-0.mp9tczpqxsr\", \"education\": \"Bachelor's degree or equivalent\"}, {\"user\": \"1563217971486-0.4mv9zwx36uy\", \"education\": \"High school or equivalent\"}, {\"user\": \"1563219179626-0.0v0rs1uavf5c\", \"education\": \"Bachelor's degree or equivalent\"}, {\"user\": \"1563218492495-0.5cvhpp90vdw\", \"education\": \"Master's degree, equivalent or higher\"}, {\"user\": \"1563219700860-0.awlgz29jwbq\", \"education\": \"Bachelor's degree or equivalent\"}, {\"user\": \"1563238996505-0.ide20dcqx5b\", \"education\": \"High school or equivalent\"}, {\"user\": \"1563235693289-0.4untqs8bva8\", \"education\": \"Bachelor's degree or equivalent\"}, {\"user\": \"1563252852729-0.8ywpwqb2xmg\", \"education\": \"High school or equivalent\"}, {\"user\": \"1563261474458-0.zvnd0enqzip\", \"education\": \"Bachelor's degree or equivalent\"}, {\"user\": \"1563264685793-0.xu0285ft8ha\", \"education\": \"Bachelor's degree or equivalent\"}, {\"user\": \"1563269003758-0.z4wodmdqe\", \"education\": \"Bachelor's degree or equivalent\"}, {\"user\": \"1563272429651-0.qwi5ekw7n28\", \"education\": \"Bachelor's degree or equivalent\"}, {\"user\": \"1563279849063-0.q1ek6irja8\", \"education\": \"Professional education, associates degree or equivalent\"}, {\"user\": \"1563284431274-0.f808cyk5gjn\", \"education\": \"Bachelor's degree or equivalent\"}, {\"user\": \"1563283962534-0.i49x48i1emi\", \"education\": \"Bachelor's degree or equivalent\"}, {\"user\": \"1563283846882-0.hr3znakwbak\", \"education\": \"Master's degree, equivalent or higher\"}, {\"user\": \"1563290519857-0.6w3bbke3vi5\", \"education\": \"High school or equivalent\"}, {\"user\": \"1563290706769-0.zgmtb4qfmwk\", \"education\": \"Professional education, associates degree or equivalent\"}, {\"user\": \"1563301455355-0.l3otdpnqvbj\", \"education\": \"Professional education, associates degree or equivalent\"}, {\"user\": \"1563309301106-0.6ahv1vjx26j\", \"education\": \"Bachelor's degree or equivalent\"}, {\"user\": \"1563316415435-0.xq4oh0tvyzf\", \"education\": \"High school or equivalent\"}, {\"user\": \"1563317511721-0.aux98qljzib\", \"education\": \"Bachelor's degree or equivalent\"}, {\"user\": \"1563320311164-0.flloxvf1aro\", \"education\": \"Master's degree, equivalent or higher\"}, {\"user\": \"1563320387875-0.8ywc6b15mhq\", \"education\": \"Bachelor's degree or equivalent\"}, {\"user\": \"1563329268851-0.z2ma6pxp0gs\", \"education\": \"High school or equivalent\"}]}};\n",
       "var opt = {};\n",
       "var selector = \"#08ed8d9f-49fb-4cf7-8700-c3138a7083be\";\n",
       "var type = \"vega-lite\";\n",
       "\n",
       "var output_area = this;\n",
       "\n",
       "require(['nbextensions/jupyter-vega3/index'], function(vega) {\n",
       "  vega.render(selector, spec, type, opt, output_area);\n",
       "}, function (err) {\n",
       "  if (err.requireType !== 'scripterror') {\n",
       "    throw(err);\n",
       "  }\n",
       "});\n"
      ]
     },
     "metadata": {
      "jupyter-vega3": "#08ed8d9f-49fb-4cf7-8700-c3138a7083be"
     },
     "output_type": "display_data"
    },
    {
     "data": {
      "image/png": "[encoded data removed]"
     },
     "metadata": {
      "jupyter-vega3": "#08ed8d9f-49fb-4cf7-8700-c3138a7083be"
     },
     "output_type": "display_data"
    }
   ],
   "source": [
    "level_of_education = (study\n",
    "                        .query(\"chart == '@answer: education'\")\n",
    "                        .filter(['user', 'message'])\n",
    "                        .rename({\"message\": \"education\"}, axis=1)\n",
    "\n",
    "                     )\n",
    "Vega({\n",
    "    \"mark\": \"bar\",\n",
    "    \"encoding\": {\n",
    "        \"y\": {\"field\": \"education\", \"type\": \"ordinal\", \"sort\": [\"Primary education\",\n",
    "                            \"High school or equivalent\",\n",
    "                            \"Professional education, associates degree or equivalent\",\n",
    "                            \"Bachelor degree or equivalent\",\n",
    "                            \"Master degree, equivalent or higher\"]\n",
    "             },\n",
    "        \"x\": {\"aggregate\": \"count\", \"type\": \"quantitative\"}\n",
    "    }, \"width\": 400\n",
    "}, level_of_education)"
   ]
  },
  {
   "cell_type": "markdown",
   "metadata": {},
   "source": [
    "## Sight"
   ]
  },
  {
   "cell_type": "code",
   "execution_count": 10,
   "metadata": {},
   "outputs": [
    {
     "data": {
      "text/html": [
       "<div class=\"vega-embed\" id=\"fd1e0222-da0a-431c-b2ad-e1ad5aba9ee1\"></div>\n",
       "\n",
       "<style>\n",
       ".vega-embed .vega-actions > a {\n",
       "    transition: opacity 200ms ease-in;\n",
       "    opacity: 0.3;\n",
       "    margin-right: 0.6em;\n",
       "    color: #444;\n",
       "    text-decoration: none;\n",
       "}\n",
       "\n",
       ".vega-embed .vega-actions > a:hover {\n",
       "    color: #000;\n",
       "    text-decoration: underline;\n",
       "}\n",
       "\n",
       ".vega-embed:hover .vega-actions > a {\n",
       "    opacity: 1;\n",
       "    transition: 0s;\n",
       "}\n",
       "\n",
       ".vega-embed .error p {\n",
       "    color: firebrick;\n",
       "    font-size: 1.2em;\n",
       "}\n",
       "</style>\n"
      ]
     },
     "metadata": {
      "jupyter-vega3": "#fd1e0222-da0a-431c-b2ad-e1ad5aba9ee1"
     },
     "output_type": "display_data"
    },
    {
     "data": {
      "application/javascript": [
       "var spec = {\"mark\": \"bar\", \"encoding\": {\"color\": {\"field\": \"sight\", \"type\": \"ordinal\"}, \"x\": {\"aggregate\": \"count\", \"type\": \"quantitative\"}}, \"width\": 600, \"data\": {\"values\": [{\"user\": \"1562866268045-0.va714vpqpoh\", \"sight\": \"I have normal vision\"}, {\"user\": \"1562865729192-0.a9jx3nl92o\", \"sight\": \"I have normal vision\"}, {\"user\": \"1562868223848-0.r97pivmqcn\", \"sight\": \"I wear glasses/contact lenses to have corrected to normal vision right now\"}, {\"user\": \"1562867459004-0.kadkc7113pc\", \"sight\": \"I wear glasses/contact lenses to have corrected to normal vision right now\"}, {\"user\": \"1562871695547-0.t1vkmjpodu\", \"sight\": \"I have normal vision\"}, {\"user\": \"1562876745404-0.s990enrl9gq\", \"sight\": \"I have normal vision\"}, {\"user\": \"1562877527959-0.70c7dtv29hi\", \"sight\": \"I have normal vision\"}, {\"user\": \"1562881202911-0.4bngjb2ckyf\", \"sight\": \"I wear glasses/contact lenses to have corrected to normal vision right now\"}, {\"user\": \"1562879446777-0.km4p3fg7u8d\", \"sight\": \"I have normal vision\"}, {\"user\": \"1562890777383-0.vfmh1jrmlw\", \"sight\": \"I have normal vision\"}, {\"user\": \"1562901132408-0.g973l6qhvz\", \"sight\": \"I have normal vision\"}, {\"user\": \"1562918465372-0.yboe8j2244t\", \"sight\": \"I have normal vision\"}, {\"user\": \"1562957522046-0.be7aontsehg\", \"sight\": \"I have normal vision\"}, {\"user\": \"1563040468619-0.tqydkdqqfnf\", \"sight\": \"I have normal vision\"}, {\"user\": \"1563041816435-0.3d8eoxk4t6j\", \"sight\": \"I wear glasses/contact lenses to have corrected to normal vision right now\"}, {\"user\": \"1563046539527-0.5o16g9vu4qw\", \"sight\": \"I wear glasses/contact lenses to have corrected to normal vision right now\"}, {\"user\": \"1563047368105-0.u67pk8n8dki\", \"sight\": \"I have normal vision\"}, {\"user\": \"1563045696028-0.5uwv2p01pss\", \"sight\": \"I have normal vision\"}, {\"user\": \"1563048176125-0.pt7ykie0f1m\", \"sight\": \"I have normal vision\"}, {\"user\": \"1563053255934-0.tbbdm53fyto\", \"sight\": \"I have normal vision\"}, {\"user\": \"1563072965112-0.yeewmtthsz\", \"sight\": \"I have normal vision\"}, {\"user\": \"1563082386380-0.534d3zf0oc4\", \"sight\": \"I have normal vision\"}, {\"user\": \"1563175178919-0.2wagdbzx23e\", \"sight\": \"I have normal vision\"}, {\"user\": \"1563179680341-0.b7uh6wkhoyb\", \"sight\": \"I have normal vision\"}, {\"user\": \"1563179670911-0.uz66mb1ybb\", \"sight\": \"I have normal vision\"}, {\"user\": \"1563182891976-0.oh2xebzfj1d\", \"sight\": \"I have normal vision\"}, {\"user\": \"1563197987583-0.iql1ytbvkg\", \"sight\": \"I have normal vision\"}, {\"user\": \"1563207606011-0.24yj59vjmcr\", \"sight\": \"I wear glasses/contact lenses to have corrected to normal vision right now\"}, {\"user\": \"1563208306000-0.mp9tczpqxsr\", \"sight\": \"I have normal vision\"}, {\"user\": \"1563217971486-0.4mv9zwx36uy\", \"sight\": \"I wear glasses/contact lenses to have corrected to normal vision right now\"}, {\"user\": \"1563219179626-0.0v0rs1uavf5c\", \"sight\": \"I have normal vision\"}, {\"user\": \"1563218492495-0.5cvhpp90vdw\", \"sight\": \"I wear glasses/contact lenses to have corrected to normal vision right now\"}, {\"user\": \"1563219700860-0.awlgz29jwbq\", \"sight\": \"I have normal vision\"}, {\"user\": \"1563238996505-0.ide20dcqx5b\", \"sight\": \"I have normal vision\"}, {\"user\": \"1563235693289-0.4untqs8bva8\", \"sight\": \"I have normal vision\"}, {\"user\": \"1563252852729-0.8ywpwqb2xmg\", \"sight\": \"I have normal vision\"}, {\"user\": \"1563261474458-0.zvnd0enqzip\", \"sight\": \"I have normal vision\"}, {\"user\": \"1563264685793-0.xu0285ft8ha\", \"sight\": \"I have normal vision\"}, {\"user\": \"1563269003758-0.z4wodmdqe\", \"sight\": \"I have normal vision\"}, {\"user\": \"1563272429651-0.qwi5ekw7n28\", \"sight\": \"I have normal vision\"}, {\"user\": \"1563279849063-0.q1ek6irja8\", \"sight\": \"I have normal vision\"}, {\"user\": \"1563284431274-0.f808cyk5gjn\", \"sight\": \"I wear glasses/contact lenses to have corrected to normal vision right now\"}, {\"user\": \"1563283962534-0.i49x48i1emi\", \"sight\": \"I have normal vision\"}, {\"user\": \"1563283846882-0.hr3znakwbak\", \"sight\": \"I have normal vision\"}, {\"user\": \"1563290519857-0.6w3bbke3vi5\", \"sight\": \"I have normal vision\"}, {\"user\": \"1563290706769-0.zgmtb4qfmwk\", \"sight\": \"I have normal vision\"}, {\"user\": \"1563301455355-0.l3otdpnqvbj\", \"sight\": \"I have normal vision\"}, {\"user\": \"1563309301106-0.6ahv1vjx26j\", \"sight\": \"I have normal vision\"}, {\"user\": \"1563316415435-0.xq4oh0tvyzf\", \"sight\": \"I have normal vision\"}, {\"user\": \"1563317511721-0.aux98qljzib\", \"sight\": \"I have normal vision\"}, {\"user\": \"1563320311164-0.flloxvf1aro\", \"sight\": \"I wear glasses/contact lenses to have corrected to normal vision right now\"}, {\"user\": \"1563320387875-0.8ywc6b15mhq\", \"sight\": \"I wear glasses/contact lenses to have corrected to normal vision right now\"}, {\"user\": \"1563329268851-0.z2ma6pxp0gs\", \"sight\": \"I have normal vision\"}]}};\n",
       "var opt = {};\n",
       "var selector = \"#fd1e0222-da0a-431c-b2ad-e1ad5aba9ee1\";\n",
       "var type = \"vega-lite\";\n",
       "\n",
       "var output_area = this;\n",
       "\n",
       "require(['nbextensions/jupyter-vega3/index'], function(vega) {\n",
       "  vega.render(selector, spec, type, opt, output_area);\n",
       "}, function (err) {\n",
       "  if (err.requireType !== 'scripterror') {\n",
       "    throw(err);\n",
       "  }\n",
       "});\n"
      ]
     },
     "metadata": {
      "jupyter-vega3": "#fd1e0222-da0a-431c-b2ad-e1ad5aba9ee1"
     },
     "output_type": "display_data"
    },
    {
     "data": {
      "image/png": "[encoded data removed]"
     },
     "metadata": {
      "jupyter-vega3": "#fd1e0222-da0a-431c-b2ad-e1ad5aba9ee1"
     },
     "output_type": "display_data"
    }
   ],
   "source": [
    "sight = (study\n",
    "            .query(\"chart == '@answer: sight'\")\n",
    "            .filter(['user', 'message'])\n",
    "            .rename({\"message\": \"sight\"}, axis=1)\n",
    "         )\n",
    "Vega({\n",
    "    \"mark\": \"bar\",\n",
    "    \"encoding\": {\n",
    "        \"color\": {\"field\": \"sight\", \"type\": \"ordinal\"},\n",
    "        \"x\": {\"aggregate\": \"count\", \"type\": \"quantitative\"}\n",
    "    }, \"width\": 600\n",
    "}, sight)"
   ]
  },
  {
   "cell_type": "markdown",
   "metadata": {},
   "source": [
    "## Engagement"
   ]
  },
  {
   "cell_type": "code",
   "execution_count": 11,
   "metadata": {},
   "outputs": [
    {
     "data": {
      "text/html": [
       "<div class=\"vega-embed\" id=\"b62710ca-0339-46d4-b4d1-fbdc6f571324\"></div>\n",
       "\n",
       "<style>\n",
       ".vega-embed .vega-actions > a {\n",
       "    transition: opacity 200ms ease-in;\n",
       "    opacity: 0.3;\n",
       "    margin-right: 0.6em;\n",
       "    color: #444;\n",
       "    text-decoration: none;\n",
       "}\n",
       "\n",
       ".vega-embed .vega-actions > a:hover {\n",
       "    color: #000;\n",
       "    text-decoration: underline;\n",
       "}\n",
       "\n",
       ".vega-embed:hover .vega-actions > a {\n",
       "    opacity: 1;\n",
       "    transition: 0s;\n",
       "}\n",
       "\n",
       ".vega-embed .error p {\n",
       "    color: firebrick;\n",
       "    font-size: 1.2em;\n",
       "}\n",
       "</style>\n"
      ]
     },
     "metadata": {
      "jupyter-vega3": "#b62710ca-0339-46d4-b4d1-fbdc6f571324"
     },
     "output_type": "display_data"
    },
    {
     "data": {
      "application/javascript": [
       "var spec = {\"mark\": \"bar\", \"encoding\": {\"y\": {\"field\": \"engagement\", \"type\": \"quantitative\"}, \"x\": {\"aggregate\": \"count\", \"type\": \"quantitative\"}}, \"data\": {\"values\": [{\"engagement\": 2.0}, {\"engagement\": 2.3333333333333335}, {\"engagement\": 2.0}, {\"engagement\": 3.0}, {\"engagement\": 3.0}, {\"engagement\": 3.0}, {\"engagement\": 2.0}, {\"engagement\": 3.0}, {\"engagement\": 2.6666666666666665}, {\"engagement\": 2.6666666666666665}, {\"engagement\": 2.6666666666666665}, {\"engagement\": 2.0}, {\"engagement\": 2.0}, {\"engagement\": 2.6666666666666665}, {\"engagement\": 2.6666666666666665}, {\"engagement\": 2.3333333333333335}, {\"engagement\": 2.0}, {\"engagement\": 2.0}, {\"engagement\": 3.3333333333333335}, {\"engagement\": 2.0}, {\"engagement\": 3.0}, {\"engagement\": 2.6666666666666665}, {\"engagement\": 2.6666666666666665}, {\"engagement\": 2.6666666666666665}, {\"engagement\": 2.6666666666666665}, {\"engagement\": 2.6666666666666665}, {\"engagement\": 1.0}, {\"engagement\": 2.6666666666666665}, {\"engagement\": 2.6666666666666665}, {\"engagement\": 1.0}, {\"engagement\": 3.0}, {\"engagement\": 3.0}, {\"engagement\": 1.0}, {\"engagement\": 2.3333333333333335}, {\"engagement\": 3.0}, {\"engagement\": 1.0}, {\"engagement\": 2.0}, {\"engagement\": 1.0}, {\"engagement\": 1.0}, {\"engagement\": 1.0}, {\"engagement\": 2.3333333333333335}, {\"engagement\": 1.0}, {\"engagement\": 4.666666666666667}, {\"engagement\": 4.333333333333333}, {\"engagement\": 4.666666666666667}, {\"engagement\": 3.3333333333333335}, {\"engagement\": 4.333333333333333}, {\"engagement\": 4.666666666666667}, {\"engagement\": 1.6666666666666667}, {\"engagement\": 4.333333333333333}, {\"engagement\": 1.6666666666666667}, {\"engagement\": 4.0}, {\"engagement\": 1.0}, {\"engagement\": 4.333333333333333}, {\"engagement\": 4.333333333333333}, {\"engagement\": 1.0}, {\"engagement\": 5.0}, {\"engagement\": 5.0}, {\"engagement\": 1.0}, {\"engagement\": 4.666666666666667}, {\"engagement\": 3.0}, {\"engagement\": 4.666666666666667}, {\"engagement\": 4.333333333333333}, {\"engagement\": 4.666666666666667}, {\"engagement\": 3.0}, {\"engagement\": 4.0}, {\"engagement\": 1.0}, {\"engagement\": 3.3333333333333335}, {\"engagement\": 2.0}, {\"engagement\": 2.0}, {\"engagement\": 2.0}, {\"engagement\": 2.0}, {\"engagement\": 1.3333333333333333}, {\"engagement\": 2.0}, {\"engagement\": 2.0}, {\"engagement\": 2.0}, {\"engagement\": 2.0}, {\"engagement\": 5.0}, {\"engagement\": 1.3333333333333333}, {\"engagement\": 4.333333333333333}, {\"engagement\": 5.0}, {\"engagement\": 1.0}, {\"engagement\": 4.666666666666667}, {\"engagement\": 3.3333333333333335}, {\"engagement\": 4.0}, {\"engagement\": 4.666666666666667}, {\"engagement\": 2.3333333333333335}, {\"engagement\": 3.6666666666666665}, {\"engagement\": 4.0}, {\"engagement\": 2.6666666666666665}, {\"engagement\": 2.0}, {\"engagement\": 2.0}, {\"engagement\": 2.0}, {\"engagement\": 4.333333333333333}, {\"engagement\": 4.333333333333333}, {\"engagement\": 3.0}, {\"engagement\": 3.0}, {\"engagement\": 3.6666666666666665}, {\"engagement\": 2.6666666666666665}, {\"engagement\": 2.3333333333333335}, {\"engagement\": 2.3333333333333335}, {\"engagement\": 2.3333333333333335}, {\"engagement\": 2.3333333333333335}, {\"engagement\": 2.0}, {\"engagement\": 2.0}, {\"engagement\": 2.0}, {\"engagement\": 2.0}, {\"engagement\": 3.0}, {\"engagement\": 3.0}, {\"engagement\": 3.0}, {\"engagement\": 3.0}, {\"engagement\": 3.0}, {\"engagement\": 3.0}, {\"engagement\": 3.0}, {\"engagement\": 3.0}, {\"engagement\": 4.0}, {\"engagement\": 4.0}, {\"engagement\": 4.0}, {\"engagement\": 4.0}, {\"engagement\": 4.0}, {\"engagement\": 4.0}, {\"engagement\": 4.0}, {\"engagement\": 4.0}, {\"engagement\": 3.6666666666666665}, {\"engagement\": 4.0}, {\"engagement\": 3.6666666666666665}, {\"engagement\": 4.0}, {\"engagement\": 4.0}, {\"engagement\": 4.0}, {\"engagement\": 4.0}, {\"engagement\": 4.0}, {\"engagement\": 4.0}, {\"engagement\": 4.0}, {\"engagement\": 3.6666666666666665}, {\"engagement\": 4.0}, {\"engagement\": 4.0}, {\"engagement\": 2.3333333333333335}, {\"engagement\": 4.0}, {\"engagement\": 2.3333333333333335}, {\"engagement\": 3.3333333333333335}, {\"engagement\": 2.6666666666666665}, {\"engagement\": 3.0}, {\"engagement\": 3.3333333333333335}, {\"engagement\": 3.3333333333333335}, {\"engagement\": 4.0}, {\"engagement\": 2.3333333333333335}, {\"engagement\": 4.0}, {\"engagement\": 3.6666666666666665}, {\"engagement\": 4.0}, {\"engagement\": 3.3333333333333335}, {\"engagement\": 4.333333333333333}, {\"engagement\": 4.333333333333333}, {\"engagement\": 3.0}, {\"engagement\": 3.0}, {\"engagement\": 3.0}, {\"engagement\": 3.3333333333333335}, {\"engagement\": 3.0}, {\"engagement\": 2.6666666666666665}, {\"engagement\": 3.0}, {\"engagement\": 4.0}, {\"engagement\": 3.0}, {\"engagement\": 3.6666666666666665}, {\"engagement\": 3.3333333333333335}, {\"engagement\": 3.3333333333333335}, {\"engagement\": 3.3333333333333335}, {\"engagement\": 3.3333333333333335}, {\"engagement\": 3.3333333333333335}, {\"engagement\": 3.3333333333333335}, {\"engagement\": 3.6666666666666665}, {\"engagement\": 3.3333333333333335}, {\"engagement\": 3.3333333333333335}, {\"engagement\": 1.0}, {\"engagement\": 1.0}, {\"engagement\": 1.0}, {\"engagement\": 3.6666666666666665}, {\"engagement\": 1.0}, {\"engagement\": 1.0}, {\"engagement\": 1.0}, {\"engagement\": 1.0}, {\"engagement\": 1.0}, {\"engagement\": 2.0}, {\"engagement\": 2.0}, {\"engagement\": 2.0}, {\"engagement\": 2.0}, {\"engagement\": 2.0}, {\"engagement\": 2.0}, {\"engagement\": 2.0}, {\"engagement\": 2.0}, {\"engagement\": 2.6666666666666665}, {\"engagement\": 3.3333333333333335}, {\"engagement\": 3.3333333333333335}, {\"engagement\": 3.3333333333333335}, {\"engagement\": 3.6666666666666665}, {\"engagement\": 3.0}, {\"engagement\": 3.0}, {\"engagement\": 3.0}, {\"engagement\": 3.0}, {\"engagement\": 4.666666666666667}, {\"engagement\": 5.0}, {\"engagement\": 5.0}, {\"engagement\": 5.0}, {\"engagement\": 3.0}, {\"engagement\": 3.0}, {\"engagement\": 5.0}, {\"engagement\": 5.0}, {\"engagement\": 3.0}, {\"engagement\": 3.0}, {\"engagement\": 3.0}, {\"engagement\": 5.0}, {\"engagement\": 5.0}, {\"engagement\": 2.6666666666666665}, {\"engagement\": 3.6666666666666665}, {\"engagement\": 3.3333333333333335}, {\"engagement\": 3.0}, {\"engagement\": 3.3333333333333335}, {\"engagement\": 3.0}, {\"engagement\": 3.3333333333333335}, {\"engagement\": 3.3333333333333335}, {\"engagement\": 3.0}, {\"engagement\": 3.0}, {\"engagement\": 3.3333333333333335}, {\"engagement\": 3.0}, {\"engagement\": 3.0}, {\"engagement\": 3.3333333333333335}, {\"engagement\": 3.3333333333333335}, {\"engagement\": 3.3333333333333335}, {\"engagement\": 3.3333333333333335}, {\"engagement\": 3.3333333333333335}, {\"engagement\": 2.6666666666666665}, {\"engagement\": 2.6666666666666665}, {\"engagement\": 3.3333333333333335}, {\"engagement\": 3.0}, {\"engagement\": 3.0}, {\"engagement\": 3.3333333333333335}, {\"engagement\": 3.0}, {\"engagement\": 3.3333333333333335}, {\"engagement\": 4.333333333333333}, {\"engagement\": 4.666666666666667}, {\"engagement\": 3.3333333333333335}, {\"engagement\": 3.3333333333333335}, {\"engagement\": 4.666666666666667}, {\"engagement\": 3.3333333333333335}, {\"engagement\": 3.0}, {\"engagement\": 5.0}, {\"engagement\": 3.6666666666666665}, {\"engagement\": 5.0}, {\"engagement\": 3.0}, {\"engagement\": 3.0}, {\"engagement\": 4.666666666666667}, {\"engagement\": 4.0}, {\"engagement\": 5.0}, {\"engagement\": 2.6666666666666665}, {\"engagement\": 5.0}, {\"engagement\": 4.666666666666667}, {\"engagement\": 2.0}, {\"engagement\": 2.6666666666666665}, {\"engagement\": 2.6666666666666665}, {\"engagement\": 2.6666666666666665}, {\"engagement\": 3.3333333333333335}, {\"engagement\": 2.6666666666666665}, {\"engagement\": 4.0}, {\"engagement\": 3.3333333333333335}, {\"engagement\": 3.3333333333333335}, {\"engagement\": 3.3333333333333335}, {\"engagement\": 2.6666666666666665}, {\"engagement\": 3.3333333333333335}, {\"engagement\": 3.0}, {\"engagement\": 4.333333333333333}, {\"engagement\": 4.333333333333333}, {\"engagement\": 4.0}, {\"engagement\": 3.0}, {\"engagement\": 4.0}, {\"engagement\": 2.6666666666666665}, {\"engagement\": 4.333333333333333}, {\"engagement\": 3.3333333333333335}, {\"engagement\": 4.0}, {\"engagement\": 4.0}, {\"engagement\": 4.0}, {\"engagement\": 4.0}, {\"engagement\": 4.0}, {\"engagement\": 4.333333333333333}, {\"engagement\": 2.6666666666666665}, {\"engagement\": 2.0}, {\"engagement\": 2.6666666666666665}, {\"engagement\": 2.6666666666666665}, {\"engagement\": 2.0}, {\"engagement\": 2.6666666666666665}, {\"engagement\": 4.333333333333333}, {\"engagement\": 4.0}, {\"engagement\": 5.0}, {\"engagement\": 5.0}, {\"engagement\": 5.0}, {\"engagement\": 5.0}, {\"engagement\": 5.0}, {\"engagement\": 5.0}, {\"engagement\": 5.0}, {\"engagement\": 2.0}, {\"engagement\": 2.0}, {\"engagement\": 4.0}, {\"engagement\": 2.0}, {\"engagement\": 4.0}, {\"engagement\": 5.0}, {\"engagement\": 4.0}, {\"engagement\": 4.0}, {\"engagement\": 4.0}, {\"engagement\": 1.0}, {\"engagement\": 4.333333333333333}, {\"engagement\": 5.0}, {\"engagement\": 5.0}, {\"engagement\": 5.0}, {\"engagement\": 5.0}, {\"engagement\": 5.0}, {\"engagement\": 5.0}, {\"engagement\": 4.0}, {\"engagement\": 4.0}, {\"engagement\": 4.0}, {\"engagement\": 4.0}, {\"engagement\": 4.0}, {\"engagement\": 4.0}, {\"engagement\": 4.0}, {\"engagement\": 4.0}, {\"engagement\": 3.0}, {\"engagement\": 3.6666666666666665}, {\"engagement\": 3.6666666666666665}, {\"engagement\": 3.0}, {\"engagement\": 3.3333333333333335}, {\"engagement\": 4.0}, {\"engagement\": 4.0}, {\"engagement\": 4.0}, {\"engagement\": 4.333333333333333}, {\"engagement\": 4.333333333333333}, {\"engagement\": 3.3333333333333335}, {\"engagement\": 4.666666666666667}, {\"engagement\": 5.0}, {\"engagement\": 4.333333333333333}, {\"engagement\": 4.0}, {\"engagement\": 4.333333333333333}, {\"engagement\": 3.6666666666666665}, {\"engagement\": 3.3333333333333335}, {\"engagement\": 3.3333333333333335}, {\"engagement\": 3.3333333333333335}, {\"engagement\": 3.3333333333333335}, {\"engagement\": 3.3333333333333335}, {\"engagement\": 3.3333333333333335}, {\"engagement\": 3.3333333333333335}, {\"engagement\": 2.3333333333333335}, {\"engagement\": 2.6666666666666665}, {\"engagement\": 2.3333333333333335}, {\"engagement\": 4.0}, {\"engagement\": 4.0}, {\"engagement\": 4.0}, {\"engagement\": 4.0}, {\"engagement\": 4.0}, {\"engagement\": 2.6666666666666665}, {\"engagement\": 2.3333333333333335}, {\"engagement\": 1.0}, {\"engagement\": 1.0}, {\"engagement\": 2.0}, {\"engagement\": 2.6666666666666665}, {\"engagement\": 1.0}, {\"engagement\": 2.0}, {\"engagement\": 2.3333333333333335}, {\"engagement\": 1.0}, {\"engagement\": 2.0}, {\"engagement\": 2.0}, {\"engagement\": 1.0}, {\"engagement\": 2.0}, {\"engagement\": 1.0}, {\"engagement\": 2.0}, {\"engagement\": 1.0}, {\"engagement\": 1.0}, {\"engagement\": 3.0}, {\"engagement\": 2.0}, {\"engagement\": 2.0}, {\"engagement\": 3.0}, {\"engagement\": 2.0}, {\"engagement\": 1.6666666666666667}, {\"engagement\": 1.0}, {\"engagement\": 2.0}, {\"engagement\": 1.0}, {\"engagement\": 2.0}, {\"engagement\": 1.0}, {\"engagement\": 1.0}, {\"engagement\": 2.0}, {\"engagement\": 5.0}, {\"engagement\": 1.0}, {\"engagement\": 1.0}, {\"engagement\": 1.0}, {\"engagement\": 1.0}, {\"engagement\": 2.0}, {\"engagement\": 2.0}, {\"engagement\": 2.0}, {\"engagement\": 2.0}, {\"engagement\": 2.0}, {\"engagement\": 2.0}, {\"engagement\": 1.6666666666666667}, {\"engagement\": 1.3333333333333333}, {\"engagement\": 1.3333333333333333}, {\"engagement\": 1.6666666666666667}, {\"engagement\": 1.6666666666666667}, {\"engagement\": 2.0}, {\"engagement\": 1.6666666666666667}, {\"engagement\": 2.0}, {\"engagement\": 2.0}, {\"engagement\": 4.0}, {\"engagement\": 4.0}, {\"engagement\": 4.0}, {\"engagement\": 4.0}, {\"engagement\": 4.0}, {\"engagement\": 4.0}, {\"engagement\": 4.333333333333333}, {\"engagement\": 4.0}, {\"engagement\": 4.0}, {\"engagement\": 4.333333333333333}, {\"engagement\": 1.0}, {\"engagement\": 1.0}, {\"engagement\": 4.0}, {\"engagement\": 1.0}, {\"engagement\": 1.0}, {\"engagement\": 4.0}, {\"engagement\": 3.3333333333333335}, {\"engagement\": 4.0}, {\"engagement\": 4.0}, {\"engagement\": 1.0}, {\"engagement\": 4.0}, {\"engagement\": 1.0}, {\"engagement\": 4.0}, {\"engagement\": 1.0}, {\"engagement\": 4.0}, {\"engagement\": 1.0}, {\"engagement\": 4.0}, {\"engagement\": 4.0}, {\"engagement\": 4.666666666666667}, {\"engagement\": 4.333333333333333}, {\"engagement\": 4.0}, {\"engagement\": 4.0}, {\"engagement\": 5.0}, {\"engagement\": 4.0}, {\"engagement\": 3.6666666666666665}, {\"engagement\": 4.0}, {\"engagement\": 4.0}, {\"engagement\": 4.0}, {\"engagement\": 4.333333333333333}, {\"engagement\": 4.333333333333333}, {\"engagement\": 4.333333333333333}, {\"engagement\": 4.333333333333333}, {\"engagement\": 4.333333333333333}, {\"engagement\": 4.333333333333333}, {\"engagement\": 4.333333333333333}, {\"engagement\": 4.333333333333333}]}};\n",
       "var opt = {};\n",
       "var selector = \"#b62710ca-0339-46d4-b4d1-fbdc6f571324\";\n",
       "var type = \"vega-lite\";\n",
       "\n",
       "var output_area = this;\n",
       "\n",
       "require(['nbextensions/jupyter-vega3/index'], function(vega) {\n",
       "  vega.render(selector, spec, type, opt, output_area);\n",
       "}, function (err) {\n",
       "  if (err.requireType !== 'scripterror') {\n",
       "    throw(err);\n",
       "  }\n",
       "});\n"
      ]
     },
     "metadata": {
      "jupyter-vega3": "#b62710ca-0339-46d4-b4d1-fbdc6f571324"
     },
     "output_type": "display_data"
    },
    {
     "data": {
      "image/png": "[encoded data removed]"
     },
     "metadata": {
      "jupyter-vega3": "#b62710ca-0339-46d4-b4d1-fbdc6f571324"
     },
     "output_type": "display_data"
    }
   ],
   "source": [
    "engagement = (study\n",
    "           .query(\"chart.str.contains('@answer: QFAS')\")\n",
    "            .filter([\"session\", \"message\"])\n",
    "            .replace({\n",
    "                \"Strongly disagree\": 1,\n",
    "                \"Disagree\": 2,\n",
    "                \"Neither agree nor disagree\": 3,\n",
    "                \"Agree\": 4,\n",
    "                \"Strongly agree\": 5\n",
    "            })\n",
    "            .rename({\"message\": \"engagement\"}, axis=1)\n",
    "            .groupby(\"session\")\n",
    "            .agg({\"engagement\": \"mean\"})\n",
    "       )\n",
    "Vega({\n",
    "    \"mark\": \"bar\",\n",
    "    \"encoding\": {\n",
    "        \"y\": {\"field\": \"engagement\", \"type\": \"quantitative\"},\n",
    "        \"x\": {\"aggregate\": \"count\", \"type\": \"quantitative\"}\n",
    "    }, \n",
    "},engagement)"
   ]
  },
  {
   "cell_type": "code",
   "execution_count": null,
   "metadata": {},
   "outputs": [],
   "source": []
  }
 ],
 "metadata": {
  "kernelspec": {
   "display_name": "Python 3",
   "language": "python",
   "name": "python3"
  },
  "language_info": {
   "codemirror_mode": {
    "name": "ipython",
    "version": 3
   },
   "file_extension": ".py",
   "mimetype": "text/x-python",
   "name": "python",
   "nbconvert_exporter": "python",
   "pygments_lexer": "ipython3",
   "version": "3.7.3"
  }
 },
 "nbformat": 4,
 "nbformat_minor": 2
}
