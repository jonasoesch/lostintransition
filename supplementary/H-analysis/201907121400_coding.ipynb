{
 "cells": [
  {
   "cell_type": "code",
   "execution_count": 19,
   "metadata": {},
   "outputs": [],
   "source": [
    "import pandas as pd"
   ]
  },
  {
   "cell_type": "markdown",
   "metadata": {},
   "source": [
    "# Coding\n",
    "\n",
    "This notebook generates a CSV-file with all the answers as an input for the coding process."
   ]
  },
  {
   "cell_type": "markdown",
   "metadata": {},
   "source": [
    "## Load data"
   ]
  },
  {
   "cell_type": "code",
   "execution_count": 20,
   "metadata": {},
   "outputs": [],
   "source": [
    "study = pd.read_pickle(\"outputs/201907121200_transitions.pkl\", compression=\"gzip\")"
   ]
  },
  {
   "cell_type": "markdown",
   "metadata": {},
   "source": [
    "## Coding\n",
    "\n",
    "\n",
    "All the answers are being exported together with the session id and other relevant information"
   ]
  },
  {
   "cell_type": "code",
   "execution_count": 17,
   "metadata": {},
   "outputs": [],
   "source": [
    "only_msg = (study[ \n",
    "      (study.chart.str.contains(\"@answer: Qrelationship\")     |\n",
    "       study.chart.str.contains(\"@answer: QsecondAxes\"))      |\n",
    "       study.chart.str.contains(\"@answer: QsecondConclusion\") |\n",
    "       study.chart.str.contains(\"@answer: QfirstAxes\")        |\n",
    "       study.chart.str.contains(\"@answer: QfirstConclusion\")  |\n",
    "       study.chart.str.contains(\"@answer: color\")  |\n",
    "       study.chart.str.contains(\"@answer: age\")\n",
    "     ].query(\"has_finished == True\")\n",
    "     .query(\"WorkerId.isnull() == False\")\n",
    "     .filter(['time', 'WorkerId', 'user', 'session', 'story', 'substory', 'chart', 'message']).copy()\n",
    "           )\n",
    "only_msg.drop_duplicates(inplace=True)"
   ]
  },
  {
   "cell_type": "code",
   "execution_count": 18,
   "metadata": {},
   "outputs": [],
   "source": [
    "only_msg.sort_values(['story', 'substory', 'chart'])\\\n",
    "    .to_csv(\"outputs/201907121400_coding_in.csv\", sep=\";\", index=False)"
   ]
  },
  {
   "cell_type": "code",
   "execution_count": null,
   "metadata": {},
   "outputs": [],
   "source": []
  }
 ],
 "metadata": {
  "kernelspec": {
   "display_name": "Python 3",
   "language": "python",
   "name": "python3"
  },
  "language_info": {
   "codemirror_mode": {
    "name": "ipython",
    "version": 3
   },
   "file_extension": ".py",
   "mimetype": "text/x-python",
   "name": "python",
   "nbconvert_exporter": "python",
   "pygments_lexer": "ipython3",
   "version": "3.7.3"
  }
 },
 "nbformat": 4,
 "nbformat_minor": 2
}
